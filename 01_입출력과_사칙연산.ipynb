{
  "nbformat": 4,
  "nbformat_minor": 0,
  "metadata": {
    "colab": {
      "name": "01. 입출력과 사칙연산.ipynb",
      "provenance": [],
      "authorship_tag": "ABX9TyNhFe1Zr9OsnujvHvGAofMm",
      "include_colab_link": true
    },
    "kernelspec": {
      "name": "python3",
      "display_name": "Python 3"
    }
  },
  "cells": [
    {
      "cell_type": "markdown",
      "metadata": {
        "id": "view-in-github",
        "colab_type": "text"
      },
      "source": [
        "<a href=\"https://colab.research.google.com/github/jisang93/Coding_Train/blob/master/01_%EC%9E%85%EC%B6%9C%EB%A0%A5%EA%B3%BC_%EC%82%AC%EC%B9%99%EC%97%B0%EC%82%B0.ipynb\" target=\"_parent\"><img src=\"https://colab.research.google.com/assets/colab-badge.svg\" alt=\"Open In Colab\"/></a>"
      ]
    },
    {
      "cell_type": "markdown",
      "metadata": {
        "id": "tsvHz3q5TYZd",
        "colab_type": "text"
      },
      "source": [
        "**1. Hello World!를 출력하시오.**"
      ]
    },
    {
      "cell_type": "code",
      "metadata": {
        "id": "K9DLdIe3TCUi",
        "colab_type": "code",
        "colab": {
          "base_uri": "https://localhost:8080/",
          "height": 34
        },
        "outputId": "8e3084d8-3d70-4093-aa6f-1ad22b9b195a"
      },
      "source": [
        "print(\"Hello World!\")"
      ],
      "execution_count": null,
      "outputs": [
        {
          "output_type": "stream",
          "text": [
            "Hello World!\n"
          ],
          "name": "stdout"
        }
      ]
    },
    {
      "cell_type": "markdown",
      "metadata": {
        "id": "MbNgb2GNUP2U",
        "colab_type": "text"
      },
      "source": [
        "**2. 강한친구 대한육군 강한친구 대한육군**"
      ]
    },
    {
      "cell_type": "code",
      "metadata": {
        "id": "WElNmjL3TeBs",
        "colab_type": "code",
        "colab": {
          "base_uri": "https://localhost:8080/",
          "height": 52
        },
        "outputId": "f3f7a524-c29d-47d3-947b-8aa98fe0f77a"
      },
      "source": [
        "print(\"강한친구 대한육군\\n강한친구 대한육군\")"
      ],
      "execution_count": null,
      "outputs": [
        {
          "output_type": "stream",
          "text": [
            "강한친구 대한육군\n",
            "강한친구 대한육군\n"
          ],
          "name": "stdout"
        }
      ]
    },
    {
      "cell_type": "markdown",
      "metadata": {
        "id": "UTBiq439U94o",
        "colab_type": "text"
      },
      "source": [
        "**3. 고양이**\n"
      ]
    },
    {
      "cell_type": "code",
      "metadata": {
        "id": "6l2Vf6PjUWJT",
        "colab_type": "code",
        "colab": {
          "base_uri": "https://localhost:8080/",
          "height": 87
        },
        "outputId": "766c55d1-b95a-4b01-90f4-564f7b1c4cf3"
      },
      "source": [
        "print(\"\"\"\\\\    /\\\\\\n )  ( ')\\n(  /  )\\n \\\\(__)|\"\"\")"
      ],
      "execution_count": null,
      "outputs": [
        {
          "output_type": "stream",
          "text": [
            "\\    /\\\n",
            " )  ( ')\n",
            "(  /  )\n",
            " \\(__)|\n"
          ],
          "name": "stdout"
        }
      ]
    },
    {
      "cell_type": "markdown",
      "metadata": {
        "id": "tqIy4BD3XXvJ",
        "colab_type": "text"
      },
      "source": [
        "**4. 강아지**"
      ]
    },
    {
      "cell_type": "code",
      "metadata": {
        "id": "pURmaoN3VKRV",
        "colab_type": "code",
        "colab": {
          "base_uri": "https://localhost:8080/",
          "height": 105
        },
        "outputId": "9a957069-ee3f-484c-aa53-537ba9104f5e"
      },
      "source": [
        "print('''|\\\\_/|\\n|q p|   /}\\n( 0 )\"\"\"\\\\\\n|\"^\"`    |\\n||_/=\\\\\\\\__|''')"
      ],
      "execution_count": 21,
      "outputs": [
        {
          "output_type": "stream",
          "text": [
            "|\\_/|\n",
            "|q p|   /}\n",
            "( 0 )\"\"\"\\\n",
            "|\"^\"`    |\n",
            "||_/=\\\\__|\n"
          ],
          "name": "stdout"
        }
      ]
    },
    {
      "cell_type": "markdown",
      "metadata": {
        "id": "j9NdHEWcbIeC",
        "colab_type": "text"
      },
      "source": [
        "**5. 두 정수 A와 B를 입력받은 다음, A+B를 출력하는 프로그램을 작성하시오.**"
      ]
    },
    {
      "cell_type": "code",
      "metadata": {
        "id": "179MHmtqa3B3",
        "colab_type": "code",
        "colab": {
          "base_uri": "https://localhost:8080/",
          "height": 52
        },
        "outputId": "b0eab912-7bc8-47bb-b52c-0a0d1b4b6846"
      },
      "source": [
        "a, b = map(int, input().split())\n",
        "print(a + b)"
      ],
      "execution_count": 32,
      "outputs": [
        {
          "output_type": "stream",
          "text": [
            "1 2\n",
            "3\n"
          ],
          "name": "stdout"
        }
      ]
    },
    {
      "cell_type": "markdown",
      "metadata": {
        "id": "G8HCyhngdDIW",
        "colab_type": "text"
      },
      "source": [
        "**6. 두 정수 A와 B를 입력받은 다음, A-B를 출력하는 프로그램을 작성하시오.**"
      ]
    },
    {
      "cell_type": "code",
      "metadata": {
        "id": "5J6C9GlnbP6P",
        "colab_type": "code",
        "colab": {
          "base_uri": "https://localhost:8080/",
          "height": 52
        },
        "outputId": "ca6dc489-2384-497d-ceb5-d98a99cfefe6"
      },
      "source": [
        "a, b = map(int, input().split())\n",
        "print(a - b)"
      ],
      "execution_count": 33,
      "outputs": [
        {
          "output_type": "stream",
          "text": [
            "2 1\n",
            "1\n"
          ],
          "name": "stdout"
        }
      ]
    },
    {
      "cell_type": "markdown",
      "metadata": {
        "id": "mlzHlaRWdr7t",
        "colab_type": "text"
      },
      "source": [
        "**7. 두 정수 A와 B를 입력받은 다음, A×B를 출력하는 프로그램을 작성하시오.**"
      ]
    },
    {
      "cell_type": "code",
      "metadata": {
        "id": "0jRa1gGxdHm4",
        "colab_type": "code",
        "colab": {
          "base_uri": "https://localhost:8080/",
          "height": 52
        },
        "outputId": "f8c4b5ed-ee6a-4613-f59d-dde03801ae38"
      },
      "source": [
        "a, b = map(int, input().split())\n",
        "print(a * b)"
      ],
      "execution_count": 34,
      "outputs": [
        {
          "output_type": "stream",
          "text": [
            "1 2\n",
            "2\n"
          ],
          "name": "stdout"
        }
      ]
    },
    {
      "cell_type": "markdown",
      "metadata": {
        "id": "KA8YnUOWd-Xq",
        "colab_type": "text"
      },
      "source": [
        "**8. 두 정수 A와 B를 입력받은 다음, A/B를 출력하는 프로그램을 작성하시오.**"
      ]
    },
    {
      "cell_type": "code",
      "metadata": {
        "id": "03PEUALYdyNn",
        "colab_type": "code",
        "colab": {
          "base_uri": "https://localhost:8080/",
          "height": 52
        },
        "outputId": "72ee9c83-f081-4db3-dd34-bda4a178fcf3"
      },
      "source": [
        "a, b = map(int, input().split())\n",
        "print(a/b)"
      ],
      "execution_count": 36,
      "outputs": [
        {
          "output_type": "stream",
          "text": [
            "1 3\n",
            "0.3333333333333333\n"
          ],
          "name": "stdout"
        }
      ]
    },
    {
      "cell_type": "markdown",
      "metadata": {
        "id": "A116VW90eZRp",
        "colab_type": "text"
      },
      "source": [
        "**9. 두 자연수 A와 B가 주어진다. 이때, A+B, A-B, AxB, A/B(몫), A%B(나머지)를 출력하는 프로그램을 작성하시오.**"
      ]
    },
    {
      "cell_type": "code",
      "metadata": {
        "id": "kdUK7r6weI5m",
        "colab_type": "code",
        "colab": {
          "base_uri": "https://localhost:8080/",
          "height": 122
        },
        "outputId": "54e54c3a-bcb2-45a6-f592-86804869eada"
      },
      "source": [
        "a, b = map(int, input().split())\n",
        "print(a + b)\n",
        "print(a - b)\n",
        "print(a * b)\n",
        "print(int(a / b))\n",
        "print(a % b)"
      ],
      "execution_count": 50,
      "outputs": [
        {
          "output_type": "stream",
          "text": [
            "7 3\n",
            "10\n",
            "4\n",
            "21\n",
            "2\n",
            "1\n"
          ],
          "name": "stdout"
        }
      ]
    },
    {
      "cell_type": "markdown",
      "metadata": {
        "id": "y7ulIHMRhaxJ",
        "colab_type": "text"
      },
      "source": [
        "**10. 세 수 A, B, C가 주어졌을 때, 위의 네 가지 값을 구하는 프로그램을 작성하시오.**\n",
        "\n",
        "(A+B)%C는 ((A%C) + (B%C))%C 와 같을까?\n",
        "\n",
        "(A×B)%C는 ((A%C) × (B%C))%C 와 같을까?\n",
        "\n"
      ]
    },
    {
      "cell_type": "code",
      "metadata": {
        "id": "hA7TzqXmhaGL",
        "colab_type": "code",
        "colab": {
          "base_uri": "https://localhost:8080/",
          "height": 105
        },
        "outputId": "e152da26-d290-4425-b1c7-5b6000c9cf0b"
      },
      "source": [
        "a, b, c = map(int, input().split())\n",
        "print((a + b) % c)\n",
        "print(((a % c) + (b % c)) % c)\n",
        "print((a * b) % c)\n",
        "print(((a % c) * (b % c)) % c)"
      ],
      "execution_count": 53,
      "outputs": [
        {
          "output_type": "stream",
          "text": [
            "5 8 4\n",
            "1\n",
            "1\n",
            "0\n",
            "0\n"
          ],
          "name": "stdout"
        }
      ]
    },
    {
      "cell_type": "markdown",
      "metadata": {
        "id": "CHdguq1tikZx",
        "colab_type": "text"
      },
      "source": [
        "**11. 세 자리 수) × (세 자리 수)는 다음과 같은 과정을 통하여 이루어진다.**\n",
        "\n",
        "![image.png](data:image/png;base64,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)\n",
        "\n",
        "(1)과 (2)위치에 들어갈 세 자리 자연수가 주어질 때 (3), (4), (5), (6)위치에 들어갈 값을 구하는 프로그램을 작성하시오."
      ]
    },
    {
      "cell_type": "code",
      "metadata": {
        "id": "d1OsNj61fptI",
        "colab_type": "code",
        "colab": {
          "base_uri": "https://localhost:8080/",
          "height": 122
        },
        "outputId": "05e7b1bd-38c8-4295-f0b7-3aacceeb0df5"
      },
      "source": [
        "a = input()\n",
        "b = input()\n",
        "print(int(a) * int(b[2]))\n",
        "print(int(a) * int(b[1]))\n",
        "print(int(a) * int(b[0]))\n",
        "print(int(a) * int(b))"
      ],
      "execution_count": 74,
      "outputs": [
        {
          "output_type": "stream",
          "text": [
            "472\n",
            "385\n",
            "2360\n",
            "3776\n",
            "1416\n",
            "181720\n"
          ],
          "name": "stdout"
        }
      ]
    }
  ]
}