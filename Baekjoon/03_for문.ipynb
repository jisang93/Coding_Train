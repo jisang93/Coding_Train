{
  "nbformat": 4,
  "nbformat_minor": 0,
  "metadata": {
    "colab": {
      "name": "03. for문.ipynb",
      "provenance": [],
      "authorship_tag": "ABX9TyN2TyTrImvaJ4l8/FnLVHCA",
      "include_colab_link": true
    },
    "kernelspec": {
      "name": "python3",
      "display_name": "Python 3"
    }
  },
  "cells": [
    {
      "cell_type": "markdown",
      "metadata": {
        "id": "view-in-github",
        "colab_type": "text"
      },
      "source": [
        "<a href=\"https://colab.research.google.com/github/jisang93/Coding_Train/blob/master/03_for%EB%AC%B8.ipynb\" target=\"_parent\"><img src=\"https://colab.research.google.com/assets/colab-badge.svg\" alt=\"Open In Colab\"/></a>"
      ]
    },
    {
      "cell_type": "markdown",
      "metadata": {
        "id": "fD8B0Gqf6XIg"
      },
      "source": [
        "**1번 문제**\n",
        "\n",
        "N을 입력받은 뒤, 구구단 N단을 출력하는 프로그램을 작성하시오. 출력 형식에 맞춰서 출력하면 된다."
      ]
    },
    {
      "cell_type": "code",
      "metadata": {
        "id": "BErIWI6E6A_9",
        "outputId": "ae70157a-0018-4c46-912f-82b70ebf75dd",
        "colab": {
          "base_uri": "https://localhost:8080/",
          "height": 193
        }
      },
      "source": [
        "a = int(input())\n",
        "for i in range(1, 10):\n",
        "    print(\"{} * {} = {}\".format(a, i, a*i))"
      ],
      "execution_count": 2,
      "outputs": [
        {
          "output_type": "stream",
          "text": [
            "2\n",
            "2 * 1 = 2\n",
            "2 * 2 = 4\n",
            "2 * 3 = 6\n",
            "2 * 4 = 8\n",
            "2 * 5 = 10\n",
            "2 * 6 = 12\n",
            "2 * 7 = 14\n",
            "2 * 8 = 16\n",
            "2 * 9 = 18\n"
          ],
          "name": "stdout"
        }
      ]
    },
    {
      "cell_type": "markdown",
      "metadata": {
        "id": "9oAHcPfX7og5"
      },
      "source": [
        "**2번 문제**\n",
        "\n",
        "두 정수 A와 B를 입력받은 다음, A+B를 출력하는 프로그램을 작성하시오.\n",
        "\n",
        "- 입력\n",
        "\n",
        "    첫째 줄에 테스트 케이스의 개수 T가 주어진다.\n",
        "\n",
        "    각 테스트 케이스는 한 줄로 이루어져 있으며, 각 줄에 A와 B가 주어진다. (0 < A, B < 10)"
      ]
    },
    {
      "cell_type": "code",
      "metadata": {
        "id": "bDoZtIJu6w2b",
        "outputId": "c208bac4-8743-45ad-93ec-c3f27292aef5",
        "colab": {
          "base_uri": "https://localhost:8080/",
          "height": 105
        }
      },
      "source": [
        "t = int(input())\n",
        "for i in range(t):\n",
        "    a, b = map(int, input().split())\n",
        "    print(a + b)"
      ],
      "execution_count": 5,
      "outputs": [
        {
          "output_type": "stream",
          "text": [
            "2\n",
            "1 3\n",
            "4\n",
            "2 5\n",
            "7\n"
          ],
          "name": "stdout"
        }
      ]
    },
    {
      "cell_type": "markdown",
      "metadata": {
        "id": "NjoXOA_y8j4m"
      },
      "source": [
        "**3번 문제**\n",
        "\n",
        "n이 주어졌을 때, 1부터 n까지 합을 구하는 프로그램을 작성하시오."
      ]
    },
    {
      "cell_type": "code",
      "metadata": {
        "id": "WrfdCIGG7_UH",
        "outputId": "4a989a19-fbfd-4208-8ee9-c9b84a86d335",
        "colab": {
          "base_uri": "https://localhost:8080/",
          "height": 52
        }
      },
      "source": [
        "n = int(input())\n",
        "m = 0\n",
        "for i in range(1, n+1):\n",
        "    m += i\n",
        "print(m)"
      ],
      "execution_count": 8,
      "outputs": [
        {
          "output_type": "stream",
          "text": [
            "3\n",
            "6\n"
          ],
          "name": "stdout"
        }
      ]
    },
    {
      "cell_type": "markdown",
      "metadata": {
        "id": "aVpmUN4Z8_xF"
      },
      "source": [
        "**4번 문제**\n",
        "\n",
        "- 본격적으로 for문 문제를 풀기 전에 주의해야 할 점이 있다. 입출력 방식이 느리면 여러 줄을 입력받거나 출력할 때 시간초과가 날 수 있다는 점이다. Python을 사용하고 있다면, input 대신 sys.stdin.readline을 사용할 수 있다. 단, 이때는 맨 끝의 개행문자까지 같이 입력받기 때문에 문자열을 저장하고 싶을 경우 .rstrip()을 추가로 해 주는 것이 좋다.\n",
        "\n",
        "* 입력\n",
        "\n",
        "    첫 줄에 테스트케이스의 개수 T가 주어진다. T는 최대 1,000,000이다. 다음 T줄에는 각각 두 정수 A와 B가 주어진다. A와 B는 1 이상, 1,000 이하이다."
      ]
    },
    {
      "cell_type": "code",
      "metadata": {
        "id": "RCJLK3Ev8vHM",
        "outputId": "cccd7f31-4688-423b-e6ba-fb517ddd65d9",
        "colab": {
          "base_uri": "https://localhost:8080/",
          "height": 239
        }
      },
      "source": [
        "import sys\n",
        "input = sys.stdin.readline() # 백준에서만 됨\n",
        "t = int(input)\n",
        "# for i in range(t):\n",
        "#     a, b = map(int, input_data.split())\n",
        "#     print(a + b)"
      ],
      "execution_count": 6,
      "outputs": [
        {
          "output_type": "error",
          "ename": "ValueError",
          "evalue": "ignored",
          "traceback": [
            "\u001b[0;31m---------------------------------------------------------------------------\u001b[0m",
            "\u001b[0;31mValueError\u001b[0m                                Traceback (most recent call last)",
            "\u001b[0;32m<ipython-input-6-41f0ba24c189>\u001b[0m in \u001b[0;36m<module>\u001b[0;34m()\u001b[0m\n\u001b[1;32m      1\u001b[0m \u001b[0;32mimport\u001b[0m \u001b[0msys\u001b[0m\u001b[0;34m\u001b[0m\u001b[0;34m\u001b[0m\u001b[0m\n\u001b[1;32m      2\u001b[0m \u001b[0minput\u001b[0m \u001b[0;34m=\u001b[0m \u001b[0msys\u001b[0m\u001b[0;34m.\u001b[0m\u001b[0mstdin\u001b[0m\u001b[0;34m.\u001b[0m\u001b[0mreadline\u001b[0m\u001b[0;34m(\u001b[0m\u001b[0;34m)\u001b[0m\u001b[0;34m\u001b[0m\u001b[0;34m\u001b[0m\u001b[0m\n\u001b[0;32m----> 3\u001b[0;31m \u001b[0mt\u001b[0m \u001b[0;34m=\u001b[0m \u001b[0mint\u001b[0m\u001b[0;34m(\u001b[0m\u001b[0minput\u001b[0m\u001b[0;34m)\u001b[0m\u001b[0;34m\u001b[0m\u001b[0;34m\u001b[0m\u001b[0m\n\u001b[0m\u001b[1;32m      4\u001b[0m \u001b[0;31m# for i in range(t):\u001b[0m\u001b[0;34m\u001b[0m\u001b[0;34m\u001b[0m\u001b[0;34m\u001b[0m\u001b[0m\n\u001b[1;32m      5\u001b[0m \u001b[0;31m#     a, b = map(int, input_data.split())\u001b[0m\u001b[0;34m\u001b[0m\u001b[0;34m\u001b[0m\u001b[0;34m\u001b[0m\u001b[0m\n",
            "\u001b[0;31mValueError\u001b[0m: invalid literal for int() with base 10: ''"
          ]
        }
      ]
    },
    {
      "cell_type": "markdown",
      "metadata": {
        "id": "xPaaxg63BOpk"
      },
      "source": [
        "**5. N찍기**\n",
        "\n",
        "자연수 N이 주어졌을 때, 1부터 N까지 한 줄에 하나씩 출력하는 프로그램을 작성하시오.\n",
        "\n",
        "- 입력\n",
        "    \n",
        "    첫째 줄에 100,000보다 작거나 같은 자연수 N이 주어진다.\n",
        "\n",
        "- 출력\n",
        "\n",
        "    첫째 줄부터 N번째 줄 까지 차례대로 출력한다."
      ]
    },
    {
      "cell_type": "code",
      "metadata": {
        "id": "3EfIIHfH9uaR",
        "outputId": "5cf91c00-99d2-401d-d10b-76aff4be8afe",
        "colab": {
          "base_uri": "https://localhost:8080/",
          "height": 122
        }
      },
      "source": [
        "n = int(input())\n",
        "for i in range(1, n+1):\n",
        "    print(i)"
      ],
      "execution_count": 1,
      "outputs": [
        {
          "output_type": "stream",
          "text": [
            "5\n",
            "1\n",
            "2\n",
            "3\n",
            "4\n",
            "5\n"
          ],
          "name": "stdout"
        }
      ]
    },
    {
      "cell_type": "markdown",
      "metadata": {
        "id": "JN8F0h5PCUVN"
      },
      "source": [
        "**6. 기찍N**\n",
        "\n",
        "자연수 N이 주어졌을 때, N부터 1까지 한 줄에 하나씩 출력하는 프로그램을 작성하시오.\n",
        "\n",
        "- 입력\n",
        "\n",
        "    첫째 줄에 100,000보다 작거나 같은 자연수 N이 주어진다.\n",
        "\n",
        "- 출력\n",
        "\n",
        "    첫째 줄부터 N번째 줄 까지 차례대로 출력한다."
      ]
    },
    {
      "cell_type": "code",
      "metadata": {
        "id": "BYbdLXwBB1JG",
        "outputId": "681995eb-5155-4edb-f83d-aa94235063cc",
        "colab": {
          "base_uri": "https://localhost:8080/",
          "height": 122
        }
      },
      "source": [
        "n = int(input())\n",
        "for i in range(n):\n",
        "    print(n - i)"
      ],
      "execution_count": 5,
      "outputs": [
        {
          "output_type": "stream",
          "text": [
            "5\n",
            "5\n",
            "4\n",
            "3\n",
            "2\n",
            "1\n"
          ],
          "name": "stdout"
        }
      ]
    },
    {
      "cell_type": "markdown",
      "metadata": {
        "id": "J5N3g2ETDk5J"
      },
      "source": [
        "**7. A+B**\n",
        "\n",
        "두 정수 A와 B를 입력받은 다음, A+B를 출력하는 프로그램을 작성하시오.\n",
        "\n",
        "- 입력\n",
        "\n",
        "    첫째 줄에 테스트 케이스의 개수 T가 주어진다.\n",
        "\n",
        "    각 테스트 케이스는 한 줄로 이루어져 있으며, 각 줄에 A와 B가 주어진다. (0 < A, B < 10)\n",
        "\n",
        "- 출력 \n",
        "\n",
        "    각 테스트 케이스마다 \"Case #x: \"를 출력한 다음, A+B를 출력한다. 테스트 케이스 번호는 1부터 시작한다."
      ]
    },
    {
      "cell_type": "code",
      "metadata": {
        "id": "11bsowfLCp85",
        "outputId": "495c4b3b-9429-4b61-ef1f-9367c10394d7",
        "colab": {
          "base_uri": "https://localhost:8080/",
          "height": 140
        }
      },
      "source": [
        "t = int(input())\n",
        "for i in range(t):\n",
        "    a, b = map(int, input().split())\n",
        "    print(\"Case #{}: {}\".format(i+1, a+b))"
      ],
      "execution_count": 1,
      "outputs": [
        {
          "output_type": "stream",
          "text": [
            "3\n",
            "1 2\n",
            "Case #1: 3\n",
            "1 1\n",
            "Case #2: 2\n",
            "2 2\n",
            "Case #3: 4\n"
          ],
          "name": "stdout"
        }
      ]
    },
    {
      "cell_type": "markdown",
      "metadata": {
        "id": "eHwk7qQQInRh"
      },
      "source": [
        "**8. A+B**\n",
        "\n",
        "두 정수 A와 B를 입력받은 다음, A+B를 출력하는 프로그램을 작성하시오.\n",
        "\n",
        "- 입력\n",
        "\n",
        "    첫째 줄에 테스트 케이스의 개수 T가 주어진다.\n",
        "\n",
        "    각 테스트 케이스는 한 줄로 이루어져 있으며, 각 줄에 A와 B가 주어진다. (0 < A, B < 10)\n",
        "\n",
        "- 출력\n",
        "\n",
        "    각 테스트 케이스마다 \"Case #x: A + B = C\" 형식으로 출력한다. x는 테스트 케이스 번호이고 1부터 시작하며, C는 A+B이다."
      ]
    },
    {
      "cell_type": "code",
      "metadata": {
        "id": "Gmko9ZsyEHKJ",
        "outputId": "825cb0ae-5c9e-4ed1-f05b-ea6883b681f9",
        "colab": {
          "base_uri": "https://localhost:8080/",
          "height": 105
        }
      },
      "source": [
        "t = int(input())\n",
        "for i in range(t):\n",
        "    a, b = map(int, input().split())\n",
        "    print(\"Case #{}: {} + {} = {}\".format(i+1, a, b, a+b))"
      ],
      "execution_count": 2,
      "outputs": [
        {
          "output_type": "stream",
          "text": [
            "2\n",
            "1 2\n",
            "Case #1: 1 + 2 = 3\n",
            "2 4\n",
            "Case #2: 2 + 4 = 6\n"
          ],
          "name": "stdout"
        }
      ]
    },
    {
      "cell_type": "markdown",
      "metadata": {
        "id": "TOGBZdiYJemU"
      },
      "source": [
        "**9. 별 찍기 - 1**\n",
        "\n",
        "첫째 줄에는 별 1개, 둘째 줄에는 별 2개, N번째 줄에는 별 N개를 찍는 문제"
      ]
    },
    {
      "cell_type": "code",
      "metadata": {
        "id": "E2cDJvdhJRVv",
        "outputId": "93d5868c-200f-4a90-ad6e-0cd38754192b",
        "colab": {
          "base_uri": "https://localhost:8080/",
          "height": 87
        }
      },
      "source": [
        "n = int(input())\n",
        "for i in range(n):\n",
        "    print('*'* (i+1))"
      ],
      "execution_count": 3,
      "outputs": [
        {
          "output_type": "stream",
          "text": [
            "3\n",
            "*\n",
            "**\n",
            "***\n"
          ],
          "name": "stdout"
        }
      ]
    },
    {
      "cell_type": "markdown",
      "metadata": {
        "id": "7OtLqMFTKCVW"
      },
      "source": [
        "**10. 별 찍기 - 2** # 출력형식 오답\n",
        "\n",
        "첫째 줄에는 별 1개, 둘째 줄에는 별 2개, N번째 줄에는 별 N개를 찍는 문제\n",
        "\n",
        "하지만, 오른쪽을 기준으로 정렬한 별(예제 참고)을 출력하시오."
      ]
    },
    {
      "cell_type": "code",
      "metadata": {
        "id": "kSOM78pvJ2iI",
        "outputId": "06a1ba6f-ea15-4c2b-d57a-377974bf8ac5",
        "colab": {
          "base_uri": "https://localhost:8080/",
          "height": 122
        }
      },
      "source": [
        "n = int(input())\n",
        "for i in range(1, n+1):\n",
        "    print(\" \"*(n-i),\"*\"*(i))"
      ],
      "execution_count": 22,
      "outputs": [
        {
          "output_type": "stream",
          "text": [
            "5\n",
            "     *\n",
            "    **\n",
            "   ***\n",
            "  ****\n",
            " *****\n"
          ],
          "name": "stdout"
        }
      ]
    },
    {
      "cell_type": "markdown",
      "metadata": {
        "id": "D2X-87OVMZEL"
      },
      "source": [
        "**11. X보다 작은 수**\n",
        "\n",
        "정수 N개로 이루어진 수열 A와 정수 X가 주어진다. 이때, A에서 X보다 작은 수를 모두 출력하는 프로그램을 작성하시오.\n",
        "\n",
        "- 입력\n",
        "    \n",
        "    첫째 줄에 N과 X가 주어진다. (1 ≤ N, X ≤ 10,000)\n",
        "\n",
        "    둘째 줄에 수열 A를 이루는 정수 N개가 주어진다. 주어지는 정수는 모두 1보다 크거나 같고, 10,000보다 작거나 같은 정수이다.\n",
        "\n",
        "- 출력\n",
        "\n",
        "    X보다 작은 수를 입력받은 순서대로 공백으로 구분해 출력한다. X보다 작은 수는 적어도 하나 존재한다."
      ]
    },
    {
      "cell_type": "code",
      "metadata": {
        "id": "t_ftHThbKR6f",
        "outputId": "4576551a-2bb5-4dbd-8df3-151a26b73599",
        "colab": {
          "base_uri": "https://localhost:8080/",
          "height": 70
        }
      },
      "source": [
        "n, x = map(int, input().split())\n",
        "a = map(int, input().split())\n",
        "\n",
        "for i in a:\n",
        "    if i < x:\n",
        "        print(i, end=' ')"
      ],
      "execution_count": 39,
      "outputs": [
        {
          "output_type": "stream",
          "text": [
            "10 8\n",
            "1 2 3 4 5 6 7 8 9 10\n",
            "1 2 3 4 5 6 7 "
          ],
          "name": "stdout"
        }
      ]
    }
  ]
}