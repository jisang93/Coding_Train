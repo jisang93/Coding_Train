{
  "nbformat": 4,
  "nbformat_minor": 0,
  "metadata": {
    "colab": {
      "name": "07_문자열.ipynb",
      "provenance": [],
      "collapsed_sections": [],
      "authorship_tag": "ABX9TyM+HUXHuDYZakhxfO56gYCV",
      "include_colab_link": true
    },
    "kernelspec": {
      "name": "python3",
      "display_name": "Python 3"
    }
  },
  "cells": [
    {
      "cell_type": "markdown",
      "metadata": {
        "id": "view-in-github",
        "colab_type": "text"
      },
      "source": [
        "<a href=\"https://colab.research.google.com/github/jisang93/Coding_Train/blob/master/Baekjoon/07_%EB%AC%B8%EC%9E%90%EC%97%B4.ipynb\" target=\"_parent\"><img src=\"https://colab.research.google.com/assets/colab-badge.svg\" alt=\"Open In Colab\"/></a>"
      ]
    },
    {
      "cell_type": "markdown",
      "metadata": {
        "id": "fx5KXQwyXFXS"
      },
      "source": [
        "**1. 아스키 코드**\n",
        "\n",
        "알파벳 소문자, 대문자, 숫자 0-9중 하나가 주어졌을 때, 주어진 글자의 아스키 코드값을 출력하는 프로그램을 작성하시오.\n",
        "\n",
        "- 입력\n",
        "\n",
        "    알파벳 소문자, 대문자, 숫자 0-9 중 하나가 첫째 줄에 주어진다.\n",
        "\n",
        "- 출력\n",
        "\n",
        "    입력으로 주어진 글자의 아스키 코드 값을 출력한다."
      ]
    },
    {
      "cell_type": "code",
      "metadata": {
        "id": "hJwIKopZXDh9",
        "outputId": "4399321d-f360-4122-9329-38fc068e6db9",
        "colab": {
          "base_uri": "https://localhost:8080/",
          "height": 52
        }
      },
      "source": [
        "n = str(input())\n",
        "print(ord(n))"
      ],
      "execution_count": 1,
      "outputs": [
        {
          "output_type": "stream",
          "text": [
            "A\n",
            "65\n"
          ],
          "name": "stdout"
        }
      ]
    },
    {
      "cell_type": "markdown",
      "metadata": {
        "id": "vbXHL5UXX1qv"
      },
      "source": [
        "**2. 숫자의 합**\n",
        "\n",
        "N개의 숫자가 공백 없이 쓰여있다. 이 숫자를 모두 합해서 출력하는 프로그램을 작성하시오.\n",
        "\n",
        "- 입력\n",
        "\n",
        "    첫째 줄에 숫자의 개수 N (1 ≤ N ≤ 100)이 주어진다. 둘째 줄에 숫자 N개가 공백없이 주어진다.\n",
        "\n",
        "- 출력\n",
        "\n",
        "    입력으로 주어진 숫자 N개의 합을 출력한다.\n",
        "\n"
      ]
    },
    {
      "cell_type": "code",
      "metadata": {
        "id": "i0DQQYFBXk8K",
        "outputId": "85f14788-948d-47b7-c09a-e3eaeff3d88f",
        "colab": {
          "base_uri": "https://localhost:8080/",
          "height": 70
        }
      },
      "source": [
        "n = int(input())\n",
        "m = str(input())\n",
        "\n",
        "sum_n = 0\n",
        "for i in m:\n",
        "    sum_n += int(i)\n",
        "\n",
        "print(sum_n)"
      ],
      "execution_count": 2,
      "outputs": [
        {
          "output_type": "stream",
          "text": [
            "25\n",
            "7000000000000000000000000\n",
            "7\n"
          ],
          "name": "stdout"
        }
      ]
    },
    {
      "cell_type": "markdown",
      "metadata": {
        "id": "4SG0iSP5YiQC"
      },
      "source": [
        "**3. 알파벳 찾기**\n",
        "\n",
        "알파벳 소문자로만 이루어진 단어 S가 주어진다. 각각의 알파벳에 대해서, 단어에 포함되어 있는 경우에는 처음 등장하는 위치를, 포함되어 있지 않은 경우에는 -1을 출력하는 프로그램을 작성하시오.\n",
        "\n",
        "- 입력\n",
        "\n",
        "    첫째 줄에 단어 S가 주어진다. 단어의 길이는 100을 넘지 않으며, 알파벳 소문자로만 이루어져 있다.\n",
        "\n",
        "- 출력\n",
        "\n",
        "    각각의 알파벳에 대해서, a가 처음 등장하는 위치, b가 처음 등장하는 위치, ... z가 처음 등장하는 위치를 공백으로 구분해서 출력한다.\n",
        "\n",
        "    만약, 어떤 알파벳이 단어에 포함되어 있지 않다면 -1을 출력한다. 단어의 첫 번째 글자는 0번째 위치이고, 두 번째 글자는 1번째 위치이다.\n",
        "\n"
      ]
    },
    {
      "cell_type": "code",
      "metadata": {
        "id": "Y3v7GY4LYWrx",
        "outputId": "61779c88-7c7d-4314-f44b-75157dc7a241",
        "colab": {
          "base_uri": "https://localhost:8080/",
          "height": 52
        }
      },
      "source": [
        "s = str(input())\n",
        "alphabet = 'abcdefghijklmnopqrstuvwxyz'\n",
        "\n",
        "for i in alphabet:\n",
        "    c = -1\n",
        "    if i in s:\n",
        "        c = s.index(i)\n",
        "        print(c, end=' ')\n",
        "    else:\n",
        "        print(c, end=' ')"
      ],
      "execution_count": 6,
      "outputs": [
        {
          "output_type": "stream",
          "text": [
            "baekjoon\n",
            "1 0 -1 -1 2 -1 -1 -1 -1 4 3 -1 -1 7 5 -1 -1 -1 -1 -1 -1 -1 -1 -1 -1 -1 "
          ],
          "name": "stdout"
        }
      ]
    },
    {
      "cell_type": "markdown",
      "metadata": {
        "id": "yQMfdmB8-iDm"
      },
      "source": [
        "**4. 문자열 반복**\n",
        "\n",
        "문자열 S를 입력받은 후에, 각 문자를 R번 반복해 새 문자열 P를 만든 후 출력하는 프로그램을 작성하시오. 즉, 첫 번째 문자를 R번 반복하고, 두 번째 문자를 R번 반복하는 식으로 P를 만들면 된다. S에는 QR Code \"alphanumeric\" 문자만 들어있다.\n",
        "\n",
        "QR Code \"alphanumeric\" 문자는 0123456789ABCDEFGHIJKLMNOPQRSTUVWXYZ\\$%*+-./: 이다.\n",
        "\n",
        "- 입력\n",
        "\n",
        "    첫째 줄에 테스트 케이스의 개수 T(1 ≤ T ≤ 1,000)가 주어진다. 각 테스트 케이스는 반복 횟수 R(1 ≤ R ≤ 8), 문자열 S가 공백으로 구분되어 주어진다. S의 길이는 적어도 1이며, 20글자를 넘지 않는다. \n",
        "\n",
        "- 출력\n",
        "\n",
        "    각 테스트 케이스에 대해 P를 출력한다."
      ]
    },
    {
      "cell_type": "code",
      "metadata": {
        "id": "RM-zn6Sh9nO5",
        "outputId": "8c37a408-1a67-4268-e80c-a4e72067baa3",
        "colab": {
          "base_uri": "https://localhost:8080/",
          "height": 105
        }
      },
      "source": [
        "t = int(input())\n",
        "for i in range(t):\n",
        "    r, s = map(str, input().split())\n",
        "    p = \"\"\n",
        "    for i in s:\n",
        "        p += i*int(r)\n",
        "    print(p)"
      ],
      "execution_count": 17,
      "outputs": [
        {
          "output_type": "stream",
          "text": [
            "2\n",
            "3 ABC\n",
            "AAABBBCCC\n",
            "5 /HTP\n",
            "/////HHHHHTTTTTPPPPP\n"
          ],
          "name": "stdout"
        }
      ]
    },
    {
      "cell_type": "markdown",
      "metadata": {
        "id": "ISWVGSLkIROA"
      },
      "source": [
        "**5. 단어 공부**\n",
        "\n",
        "알파벳 대소문자로 된 단어가 주어지면, 이 단어에서 가장 많이 사용된 알파벳이 무엇인지 알아내는 프로그램을 작성하시오. 단, 대문자와 소문자를 구분하지 않는다.\n",
        "\n",
        "- 입력\n",
        "\n",
        "    첫째 줄에 알파벳 대소문자로 이루어진 단어가 주어진다. 주어지는 단어의 길이는 1,000,000을 넘지 않는다.\n",
        "\n",
        "- 출력\n",
        "\n",
        "첫째 줄에 이 단어에서 가장 많이 사용된 알파벳을 대문자로 출력한다. 단, 가장 많이 사용된 알파벳이 여러 개 존재하는 경우에는 ?를 출력한다."
      ]
    },
    {
      "cell_type": "code",
      "metadata": {
        "id": "XgJedUPIGVIc",
        "outputId": "f933fb79-2029-4587-d9c3-810ffdba26f8",
        "colab": {
          "base_uri": "https://localhost:8080/",
          "height": 52
        }
      },
      "source": [
        "word = str(input()).upper()\n",
        "count_alpha = {}\n",
        "\n",
        "for i in set(word):\n",
        "    count_alpha[i] = 0\n",
        "\n",
        "for w in word:\n",
        "    count_alpha[w] += 1\n",
        "\n",
        "count_alpha = sorted(count_alpha.items(), reverse=True, key=lambda item:item[1])\n",
        "\n",
        "if len(count_alpha) >= 2:\n",
        "    if count_alpha[0][1] == count_alpha[1][1]:\n",
        "       print('?')\n",
        "    else:\n",
        "        print(count_alpha[0][0])\n",
        "else:\n",
        "    print(count_alpha[0][0])"
      ],
      "execution_count": 4,
      "outputs": [
        {
          "output_type": "stream",
          "text": [
            "countalpha\n",
            "A\n"
          ],
          "name": "stdout"
        }
      ]
    },
    {
      "cell_type": "markdown",
      "metadata": {
        "id": "K5-67117xTgP"
      },
      "source": [
        "**6. 단어의 개수**\n",
        "\n",
        "영어 대소문자와 띄어쓰기만으로 이루어진 문자열이 주어진다. 이 문자열에는 몇 개의 단어가 있을까? 이를 구하는 프로그램을 작성하시오. 단, 한 단어가 여러 번 등장하면 등장한 횟수만큼 모두 세어야 한다.\n",
        "\n",
        "- 입력\n",
        "\n",
        "    첫 줄에 영어 대소문자와 띄어쓰기로 이루어진 문자열이 주어진다. 이 문자열의 길이는 1,000,000을 넘지 않는다. 단어는 띄어쓰기 한 개로 구분되며, 공백이 연속해서 나오는 경우는 없다. 또한 문자열의 앞과 뒤에는 공백이 있을 수도 있다.\n",
        "\n",
        "- 출력\n",
        "\n",
        "    첫째 줄에 단어의 개수를 출력한다."
      ]
    },
    {
      "cell_type": "code",
      "metadata": {
        "id": "P-2ZEy--Go8f",
        "outputId": "007672d4-2f1c-43ef-9725-2e0162f4c02a",
        "colab": {
          "base_uri": "https://localhost:8080/",
          "height": 52
        }
      },
      "source": [
        "word_list = input().split()\n",
        "print(len(word_list))"
      ],
      "execution_count": 8,
      "outputs": [
        {
          "output_type": "stream",
          "text": [
            "The Curious Case of Benjamin Button\n",
            "6\n"
          ],
          "name": "stdout"
        }
      ]
    },
    {
      "cell_type": "markdown",
      "metadata": {
        "id": "JoOsjCFJx5OF"
      },
      "source": [
        "**7. 상수**\n",
        "\n",
        "상근이의 동생 상수는 수학을 정말 못한다. 상수는 숫자를 읽는데 문제가 있다. 이렇게 수학을 못하는 상수를 위해서 상근이는 수의 크기를 비교하는 문제를 내주었다. 상근이는 세 자리 수 두 개를 칠판에 써주었다. 그 다음에 크기가 큰 수를 말해보라고 했다.\n",
        "\n",
        "상수는 수를 다른 사람과 다르게 거꾸로 읽는다. 예를 들어, 734와 893을 칠판에 적었다면, 상수는 이 수를 437과 398로 읽는다. 따라서, 상수는 두 수중 큰 수인 437을 큰 수라고 말할 것이다.\n",
        "\n",
        "두 수가 주어졌을 때, 상수의 대답을 출력하는 프로그램을 작성하시오.\n",
        "\n",
        "- 입력\n",
        "\n",
        "    첫째 줄에 상근이가 칠판에 적은 두 수 A와 B가 주어진다. 두 수는 같지 않은 세 자리 수이며, 0이 포함되어 있지 않다.\n",
        "\n",
        "- 출력\n",
        "\n",
        "    첫째 줄에 상수의 대답을 출력한다."
      ]
    },
    {
      "cell_type": "code",
      "metadata": {
        "id": "xAAd2mrvuCll",
        "outputId": "a3359db6-8635-4cd9-a0e4-0d7b0263c2f9",
        "colab": {
          "base_uri": "https://localhost:8080/",
          "height": 52
        }
      },
      "source": [
        "a, b = map(str, input().split())\n",
        "\n",
        "a, b = a[::-1], b[::-1]\n",
        "\n",
        "if int(a) > int(b):\n",
        "    print(a)\n",
        "else:\n",
        "    print(b)"
      ],
      "execution_count": 14,
      "outputs": [
        {
          "output_type": "stream",
          "text": [
            "734 893\n",
            "437\n"
          ],
          "name": "stdout"
        }
      ]
    },
    {
      "cell_type": "markdown",
      "metadata": {
        "id": "BbthhJVry2Ai"
      },
      "source": [
        "**8. 다이얼**\n",
        "\n",
        "상근이의 할머니는 아래 그림과 같이 오래된 다이얼 전화기를 사용한다.\n",
        "\n",
        "![image.png](data:image/png;base64,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)\n",
        "\n",
        "전화를 걸고 싶은 번호가 있다면, 숫자를 하나를 누른 다음에 금속 핀이 있는 곳 까지 시계방향으로 돌려야 한다. 숫자를 하나 누르면 다이얼이 처음 위치로 돌아가고, 다음 숫자를 누르려면 다이얼을 처음 위치에서 다시 돌려야 한다.\n",
        "\n",
        "숫자 1을 걸려면 총 2초가 필요하다. 1보다 큰 수를 거는데 걸리는 시간은 이보다 더 걸리며, 한 칸 옆에 있는 숫자를 걸기 위해선 1초씩 더 걸린다.\n",
        "\n",
        "상근이의 할머니는 전화 번호를 각 숫자에 해당하는 문자로 외운다. 즉, 어떤 단어를 걸 때, 각 알파벳에 해당하는 숫자를 걸면 된다. 예를 들어, UNUCIC는 868242와 같다.\n",
        "\n",
        "할머니가 외운 단어가 주어졌을 때, 이 전화를 걸기 위해서 필요한 시간을 구하는 프로그램을 작성하시오.\n",
        "\n",
        "- 입력\n",
        "\n",
        "    첫째 줄에 알파벳 대문자로 이루어진 단어가 주어진다. 단어는 2글자~15글자로 이루어져 있다.\n",
        "\n",
        "\n",
        "- 출력\n",
        "\n",
        "    첫째 줄에 다이얼을 걸기 위해서 필요한 시간을 출력한다."
      ]
    },
    {
      "cell_type": "code",
      "metadata": {
        "id": "mS3b0KaOxk0a",
        "outputId": "d1956d1d-9051-47be-fcb0-d7c8d46c4400",
        "colab": {
          "base_uri": "https://localhost:8080/",
          "height": 52
        }
      },
      "source": [
        "num = input()\n",
        "dial = {'A':3, 'B':3, 'C':3, 'D':4, 'E':4, 'F':4, 'G':5, 'H':5, 'I':5, 'J':6, 'K':6, 'L':6, 'M':7, 'N':7, 'O':7,\n",
        "        'P':8, 'Q':8, 'R':8, 'S':8, 'T':9, 'U':9, 'V':9, 'W':10, 'X':10, 'Y':10, 'Z':10}\n",
        "\n",
        "call_time = 0\n",
        "for i in num:\n",
        "    call_time += dial[i]\n",
        "\n",
        "print(call_time)"
      ],
      "execution_count": 18,
      "outputs": [
        {
          "output_type": "stream",
          "text": [
            "UNUCIC\n",
            "36\n"
          ],
          "name": "stdout"
        }
      ]
    },
    {
      "cell_type": "markdown",
      "metadata": {
        "id": "xM0C9fbU1ctx"
      },
      "source": [
        "**9. 크로아티아 알파벳**\n",
        "\n",
        "예전에는 운영체제에서 크로아티아 알파벳을 입력할 수가 없었다. 따라서, 다음과 같이 크로아티아 알파벳을 변경해서 입력했다.\n",
        "\n",
        "|크로아티아 알파벳\t| 변경 |\n",
        "|-------------------|------|\n",
        "|č\t|c=|\n",
        "|ć\t|c-|\n",
        "|dž\t|dz=|\n",
        "|đ\t|d-|\n",
        "|lj\t|lj|\n",
        "|nj\t|nj|\n",
        "|š\t|s=|\n",
        "|ž\t|z=|\n",
        "\n",
        "예를 들어, ljes=njak은 크로아티아 알파벳 6개(lj, e, š, nj, a, k)로 이루어져 있다. 단어가 주어졌을 때, 몇 개의 크로아티아 알파벳으로 이루어져 있는지 출력한다.\n",
        "\n",
        "dž는 무조건 하나의 알파벳으로 쓰이고, d와 ž가 분리된 것으로 보지 않는다. lj와 nj도 마찬가지이다. 위 목록에 없는 알파벳은 한 글자씩 센다.\n",
        "\n",
        "- 입력\n",
        "\n",
        "    첫째 줄에 최대 100글자의 단어가 주어진다. 알파벳 소문자와 '-', '='로만 이루어져 있다.\n",
        "\n",
        "    단어는 크로아티아 알파벳으로 이루어져 있다. 문제 설명의 표에 나와있는 알파벳은 변경된 형태로 입력된다.\n",
        "\n",
        "- 출력\n",
        "\n",
        "    입력으로 주어진 단어가 몇 개의 크로아티아 알파벳으로 이루어져 있는지 출력한다."
      ]
    },
    {
      "cell_type": "code",
      "metadata": {
        "id": "Fz8qfrEu1NHC",
        "outputId": "ced0d316-2cc8-4c62-ac8c-dab0206c7666",
        "colab": {
          "base_uri": "https://localhost:8080/",
          "height": 52
        }
      },
      "source": [
        "word = input()\n",
        "cro_alphabet = ['c=', 'c-', 'dz=', 'd-', 'lj', 'nj', 's=', 'z=']\n",
        "\n",
        "for cro in cro_alphabet:\n",
        "    word = word.replace(cro, '@')\n",
        "\n",
        "print(len(word))"
      ],
      "execution_count": 37,
      "outputs": [
        {
          "output_type": "stream",
          "text": [
            "ljes=njak\n",
            "6\n"
          ],
          "name": "stdout"
        }
      ]
    },
    {
      "cell_type": "markdown",
      "metadata": {
        "id": "qgVgj1Iw4Ur0"
      },
      "source": [
        "**10. 그룹 단어 체커**\n",
        "\n",
        "그룹 단어란 단어에 존재하는 모든 문자에 대해서, 각 문자가 연속해서 나타나는 경우만을 말한다. 예를 들면, ccazzzzbb는 c, a, z, b가 모두 연속해서 나타나고, kin도 k, i, n이 연속해서 나타나기 때문에 그룹 단어이지만, aabbbccb는 b가 떨어져서 나타나기 때문에 그룹 단어가 아니다.\n",
        "\n",
        "단어 N개를 입력으로 받아 그룹 단어의 개수를 출력하는 프로그램을 작성하시오.\n",
        "\n",
        "- 입력\n",
        "\n",
        "    첫째 줄에 단어의 개수 N이 들어온다. N은 100보다 작거나 같은 자연수이다. 둘째 줄부터 N개의 줄에 단어가 들어온다. 단어는 알파벳 소문자로만 되어있고 중복되지 않으며, 길이는 최대 100이다.\n",
        "\n",
        "- 출력\n",
        "\n",
        "    첫째 줄에 그룹 단어의 개수를 출력한다."
      ]
    },
    {
      "cell_type": "code",
      "metadata": {
        "id": "_F24JjSD3NSa",
        "outputId": "e4cf6320-ad18-4569-f00b-055e4e355440",
        "colab": {
          "base_uri": "https://localhost:8080/",
          "height": 122
        }
      },
      "source": [
        "n = int(input())\n",
        "count = 0\n",
        "for i in range(n):\n",
        "    word = input()\n",
        "    for i in range(len(word)-1):\n",
        "        if word[i] in word[i+1:]:\n",
        "            if word[i] == word[i+1]:\n",
        "                pass\n",
        "            else:\n",
        "                count += 1\n",
        "                break\n",
        "\n",
        "print(n - count)"
      ],
      "execution_count": 11,
      "outputs": [
        {
          "output_type": "stream",
          "text": [
            "4\n",
            "ababab\n",
            "abaab\n",
            "abcabc\n",
            "a\n",
            "1\n"
          ],
          "name": "stdout"
        }
      ]
    }
  ]
}