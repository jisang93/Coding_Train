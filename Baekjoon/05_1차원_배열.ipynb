{
  "nbformat": 4,
  "nbformat_minor": 0,
  "metadata": {
    "colab": {
      "name": "05_1차원 배열.ipynb",
      "provenance": [],
      "authorship_tag": "ABX9TyNy9lXKijnHO+yrH1EejXgU",
      "include_colab_link": true
    },
    "kernelspec": {
      "name": "python3",
      "display_name": "Python 3"
    }
  },
  "cells": [
    {
      "cell_type": "markdown",
      "metadata": {
        "id": "view-in-github",
        "colab_type": "text"
      },
      "source": [
        "<a href=\"https://colab.research.google.com/github/jisang93/Coding_Train/blob/master/05_1%EC%B0%A8%EC%9B%90_%EB%B0%B0%EC%97%B4.ipynb\" target=\"_parent\"><img src=\"https://colab.research.google.com/assets/colab-badge.svg\" alt=\"Open In Colab\"/></a>"
      ]
    },
    {
      "cell_type": "markdown",
      "metadata": {
        "id": "mZm_aouEtrkt"
      },
      "source": [
        "**1. 최소 최대**\n",
        "\n",
        "N개의 정수가 주어진다. 이때, 최솟값과 최댓값을 구하는 프로그램을 작성하시오.\n",
        "\n",
        "- 입력\n",
        "\n",
        "    첫째 줄에 정수의 개수 N (1 ≤ N ≤ 1,000,000)이 주어진다. 둘째 줄에는 N개의 정수를 공백으로 구분해서 주어진다. 모든 정수는 -1,000,000보다 크거나 같고, 1,000,000보다 작거나 같은 정수이다.\n",
        "\n",
        "- 출력\n",
        "\n",
        "    첫째 줄에 주어진 정수 N개의 최솟값과 최댓값을 공백으로 구분해 출력한다."
      ]
    },
    {
      "cell_type": "code",
      "metadata": {
        "id": "Z2Ui6yAPtmpz",
        "outputId": "38f163f5-871d-405d-9f9b-8c8f279e3938",
        "colab": {
          "base_uri": "https://localhost:8080/",
          "height": 70
        }
      },
      "source": [
        "n = int(input())\n",
        "n_list = list(map(int, input().split()))\n",
        "\n",
        "max = n_list[0]\n",
        "min = n_list[0]\n",
        "\n",
        "for i in n_list:\n",
        "    if max < i:\n",
        "        max = i\n",
        "    if min > i:\n",
        "        min = i\n",
        "\n",
        "print(\"{} {}\".format(min, max))"
      ],
      "execution_count": 13,
      "outputs": [
        {
          "output_type": "stream",
          "text": [
            "3\n",
            "2  5 4  123 \n",
            "2 123\n"
          ],
          "name": "stdout"
        }
      ]
    },
    {
      "cell_type": "markdown",
      "metadata": {
        "id": "frQjgCGtuqqt"
      },
      "source": [
        "**2. 최댓값**\n",
        "\n",
        "9개의 서로 다른 자연수가 주어질 때, 이들 중 최댓값을 찾고 그 최댓값이 몇 번째 수인지를 구하는 프로그램을 작성하시오.\n",
        "\n",
        "예를 들어, 서로 다른 9개의 자연수\n",
        "\n",
        "3, 29, 38, 12, 57, 74, 40, 85, 61\n",
        "\n",
        "이 주어지면, 이들 중 최댓값은 85이고, 이 값은 8번째 수이다.\n",
        "\n",
        "- 입력\n",
        "\n",
        "    첫 째 줄부터 아홉 번째 줄까지 한 줄에 하나의 자연수가 주어진다. 주어지는 자연수는 100 보다 작다.\n",
        "\n",
        "- 출력\n",
        "\n",
        "    첫째 줄에 최댓값을 출력하고, 둘째 줄에 최댓값이 몇 번째 수인지를 출력한다.\n",
        "\n"
      ]
    },
    {
      "cell_type": "code",
      "metadata": {
        "id": "f8XBA0wpuTHO",
        "outputId": "386de931-b1f9-405c-ba38-702a9428d201",
        "colab": {
          "base_uri": "https://localhost:8080/",
          "height": 210
        }
      },
      "source": [
        "n_list = []\n",
        "for i in range(9):\n",
        "    n_list.append(int(input()))\n",
        "\n",
        "max = n_list[0]\n",
        "loc = 1\n",
        "for i, num in enumerate(n_list):\n",
        "    if num > max:\n",
        "        max = num\n",
        "        loc = i+1\n",
        "\n",
        "print(max)\n",
        "print(loc)"
      ],
      "execution_count": 28,
      "outputs": [
        {
          "output_type": "stream",
          "text": [
            "13\n",
            "23\n",
            "35\n",
            "11\n",
            "10\n",
            "1\n",
            "4\n",
            "3\n",
            "2\n",
            "35\n",
            "3\n"
          ],
          "name": "stdout"
        }
      ]
    },
    {
      "cell_type": "markdown",
      "metadata": {
        "id": "QTDqdT3h0Nyu"
      },
      "source": [
        "**3. 숫자의 개수**\n",
        "\n",
        "세 개의 자연수 A, B, C가 주어질 때 A×B×C를 계산한 결과에 0부터 9까지 각각의 숫자가 몇 번씩 쓰였는지를 구하는 프로그램을 작성하시오.\n",
        "\n",
        "예를 들어 A = 150, B = 266, C = 427 이라면 \n",
        "\n",
        "A × B × C = 150 × 266 × 427 = 17037300 이 되고, \n",
        "\n",
        "계산한 결과 17037300 에는 0이 3번, 1이 1번, 3이 2번, 7이 2번 쓰였다.\n",
        "\n",
        "- 입력\n",
        "\n",
        "    첫째 줄에 A, 둘째 줄에 B, 셋째 줄에 C가 주어진다. A, B, C는 모두 100보다 같거나 크고, 1,000보다 작은 자연수이다.\n",
        "\n",
        "- 출력\n",
        "\n",
        "    첫째 줄에는 A×B×C의 결과에 0 이 몇 번 쓰였는지 출력한다. 마찬가지로 둘째 줄부터 열 번째 줄까지 A×B×C의 결과에 1부터 9까지의 숫자가 각각 몇 번 쓰였는지 차례로 한 줄에 하나씩 출력한다."
      ]
    },
    {
      "cell_type": "code",
      "metadata": {
        "id": "tH3-6Hjhy3j1",
        "outputId": "ffdedfc4-c673-41fe-8258-2d888b5ab3df",
        "colab": {
          "base_uri": "https://localhost:8080/",
          "height": 246
        }
      },
      "source": [
        "n_list = []\n",
        "for i in range(3):\n",
        "    n_list.append(int(input()))\n",
        "\n",
        "num = str(n_list[0] * n_list[1] * n_list[2])\n",
        "\n",
        "for i in range(10):\n",
        "    count = 0\n",
        "    for j in num:\n",
        "        if str(i) == j:\n",
        "            count+=1\n",
        "    print(count)"
      ],
      "execution_count": 35,
      "outputs": [
        {
          "output_type": "stream",
          "text": [
            "150\n",
            "266\n",
            "427\n",
            "3\n",
            "1\n",
            "0\n",
            "2\n",
            "0\n",
            "0\n",
            "0\n",
            "2\n",
            "0\n",
            "0\n"
          ],
          "name": "stdout"
        }
      ]
    },
    {
      "cell_type": "markdown",
      "metadata": {
        "id": "1Zu9l6zW18Rn"
      },
      "source": [
        "**4.나머지**\n",
        "\n",
        "두 자연수 A와 B가 있을 때, A%B는 A를 B로 나눈 나머지 이다. 예를 들어, 7, 14, 27, 38을 3으로 나눈 나머지는 1, 2, 0, 2이다. \n",
        "\n",
        "수 10개를 입력받은 뒤, 이를 42로 나눈 나머지를 구한다. 그 다음 서로 다른 값이 몇 개 있는지 출력하는 프로그램을 작성하시오.\n",
        "\n",
        "- 입력\n",
        "\n",
        "    첫째 줄부터 열번째 줄 까지 숫자가 한 줄에 하나씩 주어진다. 이 숫자는 1,000보다 작거나 같고, 음이 아닌 정수이다.\n",
        "\n",
        "- 출력\n",
        "\n",
        "    첫째 줄에, 42로 나누었을 때, 서로 다른 나머지가 몇 개 있는지 출력한다."
      ]
    },
    {
      "cell_type": "code",
      "metadata": {
        "id": "5lGUuV0Y1mEn",
        "outputId": "5746affc-4de7-496f-db1e-0c707e00e957",
        "colab": {
          "base_uri": "https://localhost:8080/",
          "height": 210
        }
      },
      "source": [
        "n_list = []\n",
        "for i in range(10):\n",
        "    n_list.append(int(input())%42)\n",
        "\n",
        "print(len(set(n_list)))"
      ],
      "execution_count": 37,
      "outputs": [
        {
          "output_type": "stream",
          "text": [
            "39\n",
            "40\n",
            "41\n",
            "42\n",
            "43\n",
            "44\n",
            "82\n",
            "83\n",
            "84\n",
            "85\n",
            "6\n"
          ],
          "name": "stdout"
        }
      ]
    },
    {
      "cell_type": "markdown",
      "metadata": {
        "id": "4eWkaJj-2vat"
      },
      "source": [
        "**5. 평균**\n",
        "\n",
        "세준이는 기말고사를 망쳤다. 세준이는 점수를 조작해서 집에 가져가기로 했다. 일단 세준이는 자기 점수 중에 최댓값을 골랐다. 이 값을 M이라고 한다. 그리고 나서 모든 점수를 점수/M*100으로 고쳤다.\n",
        "\n",
        "예를 들어, 세준이의 최고점이 70이고, 수학점수가 50이었으면 수학점수는 50/70*100이 되어 71.43점이 된다.\n",
        "\n",
        "세준이의 성적을 위의 방법대로 새로 계산했을 때, 새로운 평균을 구하는 프로그램을 작성하시오.\n",
        "\n",
        "- 입력\n",
        "\n",
        "    첫째 줄에 시험 본 과목의 개수 N이 주어진다. 이 값은 1000보다 작거나 같다. 둘째 줄에 세준이의 현재 성적이 주어진다. 이 값은 100보다 작거나 같은 음이 아닌 정수이고, 적어도 하나의 값은 0보다 크다.\n",
        "\n",
        "- 출력\n",
        "\n",
        "    첫째 줄에 새로운 평균을 출력한다. 실제 정답과 출력값의 절대오차 또는 상대오차가 10-2 이하이면 정답이다."
      ]
    },
    {
      "cell_type": "code",
      "metadata": {
        "id": "v58RI1sD2aUk",
        "outputId": "7942e31c-a512-42e6-9d7a-a99ab07a27dd",
        "colab": {
          "base_uri": "https://localhost:8080/",
          "height": 70
        }
      },
      "source": [
        "n = int(input())\n",
        "score_list = list(map(int, input().split()))\n",
        "\n",
        "max_score = max(score_list)\n",
        "new_score = [i/max_score*100 for i in score_list]\n",
        "\n",
        "print(sum(new_score)/len(new_score))"
      ],
      "execution_count": 6,
      "outputs": [
        {
          "output_type": "stream",
          "text": [
            "3\n",
            "40 80 60\n",
            "75.0\n"
          ],
          "name": "stdout"
        }
      ]
    },
    {
      "cell_type": "markdown",
      "metadata": {
        "id": "qUPSFE1guwXN"
      },
      "source": [
        "**6. OX퀴즈**\n",
        "\n",
        "\"OOXXOXXOOO\"와 같은 OX퀴즈의 결과가 있다. O는 문제를 맞은 것이고, X는 문제를 틀린 것이다. 문제를 맞은 경우 그 문제의 점수는 그 문제까지 연속된 O의 개수가 된다. 예를 들어, 10번 문제의 점수는 3이 된다.\n",
        "\n",
        "\"OOXXOXXOOO\"의 점수는 1+2+0+0+1+0+0+1+2+3 = 10점이다.\n",
        "\n",
        "OX퀴즈의 결과가 주어졌을 때, 점수를 구하는 프로그램을 작성하시오.\n",
        "\n",
        "- 입력\n",
        "\n",
        "    첫째 줄에 테스트 케이스의 개수가 주어진다. 각 테스트 케이스는 한 줄로 이루어져 있고, 길이가 0보다 크고 80보다 작은 문자열이 주어진다. 문자열은 O와 X만으로 이루어져 있다.\n",
        "\n",
        "- 출력\n",
        "\n",
        "    각 테스트 케이스마다 점수를 출력한다."
      ]
    },
    {
      "cell_type": "code",
      "metadata": {
        "id": "WX0hbTgH6Vf0",
        "outputId": "90012dea-cba2-47e3-8b22-7ae415c46c23",
        "colab": {
          "base_uri": "https://localhost:8080/",
          "height": 70
        }
      },
      "source": [
        "n = int(input())\n",
        "test_case = []\n",
        "\n",
        "for i in range(n):\n",
        "    test_case.append(input())\n",
        "\n",
        "\n",
        "for case in test_case:\n",
        "    total_count = 0\n",
        "    count = 1\n",
        "    for i in case:\n",
        "        if i == 'O':\n",
        "            total_count += count\n",
        "            count += 1\n",
        "        else:\n",
        "            count = 1\n",
        "    print(total_count)"
      ],
      "execution_count": 2,
      "outputs": [
        {
          "output_type": "stream",
          "text": [
            "1\n",
            "OOXXOXXOOO\n",
            "10\n"
          ],
          "name": "stdout"
        }
      ]
    },
    {
      "cell_type": "markdown",
      "metadata": {
        "id": "4a6ffYY22UUb"
      },
      "source": [
        "**7. 평균은 넘겠지**\n",
        "\n",
        "대학생 새내기들의 90%는 자신이 반에서 평균은 넘는다고 생각한다. 당신은 그들에게 슬픈 진실을 알려줘야 한다.\n",
        "\n",
        "- 입력\n",
        "\n",
        "    첫째 줄에는 테스트 케이스의 개수 C가 주어진다.\n",
        "\n",
        "    둘째 줄부터 각 테스트 케이스마다 학생의 수 N(1 ≤ N ≤ 1000, N은 정수)이 첫 수로 주어지고, 이어서 N명의 점수가 주어진다. 점수는 0보다 크거나 같고, 100보다 작거나 같은 정수이다.\n",
        "\n",
        "- 출력\n",
        "\n",
        "    각 케이스마다 한 줄씩 평균을 넘는 학생들의 비율을 반올림하여 소수점 셋째 자리까지 출력한다."
      ]
    },
    {
      "cell_type": "code",
      "metadata": {
        "id": "4q9dx0S213JP",
        "outputId": "ded6abdb-bf07-42db-b537-36d7ff1d2cb4",
        "colab": {
          "base_uri": "https://localhost:8080/",
          "height": 70
        }
      },
      "source": [
        "c = int(input())\n",
        "test_case = []\n",
        "for i in range(c):\n",
        "    test_case.append(list(map(int, input().split())))\n",
        "\n",
        "for case in test_case:\n",
        "    avg = sum(case[1:]) / case[0]\n",
        "    count = 0\n",
        "    for i in range(1, len(case)):\n",
        "        if case[i] > avg:\n",
        "            count += 1\n",
        "    ratio = count/case[0]*100\n",
        "    print('%.3f'%ratio+'%')"
      ],
      "execution_count": 14,
      "outputs": [
        {
          "output_type": "stream",
          "text": [
            "1\n",
            "5 50 50 70 80 100\n",
            "40.000%\n"
          ],
          "name": "stdout"
        }
      ]
    }
  ]
}