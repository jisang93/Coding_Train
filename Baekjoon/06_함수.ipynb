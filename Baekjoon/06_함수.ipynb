{
  "nbformat": 4,
  "nbformat_minor": 0,
  "metadata": {
    "colab": {
      "name": "06_함수.ipynb",
      "provenance": [],
      "authorship_tag": "ABX9TyMjh9DCOwV0PQco4Nbu6tcl",
      "include_colab_link": true
    },
    "kernelspec": {
      "name": "python3",
      "display_name": "Python 3"
    }
  },
  "cells": [
    {
      "cell_type": "markdown",
      "metadata": {
        "id": "view-in-github",
        "colab_type": "text"
      },
      "source": [
        "<a href=\"https://colab.research.google.com/github/jisang93/Coding_Train/blob/master/Baekjoon/06_%ED%95%A8%EC%88%98.ipynb\" target=\"_parent\"><img src=\"https://colab.research.google.com/assets/colab-badge.svg\" alt=\"Open In Colab\"/></a>"
      ]
    },
    {
      "cell_type": "markdown",
      "metadata": {
        "id": "MfCt2CLtcj__"
      },
      "source": [
        "**1. 정수 N개의 합**\n",
        "\n",
        "정수 n개가 주어졌을 때, n개의 합을 구하는 함수를 작성하시오.\n",
        "\n",
        "작성해야 하는 함수는 다음과 같다.\n",
        "\n",
        "- Python 2, Python 3, PyPy, PyPy3: def solve(a: list) -> int\n",
        "    - a: 합을 구해야 하는 정수 n개가 저장되어 있는 리스트 (0 ≤ a[i] ≤ 1,000,000, 1 ≤ n ≤ 3,000,000)\n",
        "    - 리턴값: a에 포함되어 있는 정수 n개의 합 (정수)"
      ]
    },
    {
      "cell_type": "code",
      "metadata": {
        "id": "u_yihLBecgep"
      },
      "source": [
        "def solve(a):\n",
        "    ans = sum(a)\n",
        "    return ans"
      ],
      "execution_count": null,
      "outputs": []
    },
    {
      "cell_type": "markdown",
      "metadata": {
        "id": "-odGXjNIdO2y"
      },
      "source": [
        "**2. 셀프 넘버**\n",
        "\n",
        "셀프 넘버는 1949년 인도 수학자 D.R. Kaprekar가 이름 붙였다. 양의 정수 n에 대해서 d(n)을 n과 n의 각 자리수를 더하는 함수라고 정의하자. 예를 들어, d(75) = 75+7+5 = 87이다.\n",
        "\n",
        "양의 정수 n이 주어졌을 때, 이 수를 시작해서 n, d(n), d(d(n)), d(d(d(n))), ...과 같은 무한 수열을 만들 수 있다. \n",
        "\n",
        "예를 들어, 33으로 시작한다면 다음 수는 33 + 3 + 3 = 39이고, 그 다음 수는 39 + 3 + 9 = 51, 다음 수는 51 + 5 + 1 = 57이다. 이런식으로 다음과 같은 수열을 만들 수 있다.\n",
        "\n",
        "33, 39, 51, 57, 69, 84, 96, 111, 114, 120, 123, 129, 141, ...\n",
        "\n",
        "n을 d(n)의 생성자라고 한다. 위의 수열에서 33은 39의 생성자이고, 39는 51의 생성자, 51은 57의 생성자이다. 생성자가 한 개보다 많은 경우도 있다. 예를 들어, 101은 생성자가 2개(91과 100) 있다. \n",
        "\n",
        "생성자가 없는 숫자를 셀프 넘버라고 한다. 100보다 작은 셀프 넘버는 총 13개가 있다. 1, 3, 5, 7, 9, 20, 31, 42, 53, 64, 75, 86, 97\n",
        "\n",
        "10000보다 작거나 같은 셀프 넘버를 한 줄에 하나씩 출력하는 프로그램을 작성하시오.\n",
        "\n",
        "- 출력\n",
        "\n",
        "    10,000보다 작거나 같은 셀프 넘버를 한 줄에 하나씩 증가하는 순서로 출력한다."
      ]
    },
    {
      "cell_type": "code",
      "metadata": {
        "id": "sWBNzowBdT1v"
      },
      "source": [
        "def d_num(n):\n",
        "    next_num = n\n",
        "    for i in str(next_num):\n",
        "        next_num += int(i)\n",
        "    return next_num\n",
        "\n",
        "d_num_list = []\n",
        "for i in range(1, 10001):\n",
        "    d_num_list.append(d_num(i))\n",
        "\n",
        "for j in range(1, 10001):\n",
        "    if j in d_num_list:\n",
        "        pass\n",
        "    else:\n",
        "        print(j)"
      ],
      "execution_count": null,
      "outputs": []
    },
    {
      "cell_type": "markdown",
      "metadata": {
        "id": "BHloWfkcviOs"
      },
      "source": [
        "**3. 한수**\n",
        "\n",
        "어떤 양의 정수 X의 각 자리가 등차수열을 이룬다면, 그 수를 한수라고 한다. 등차수열은 연속된 두 개의 수의 차이가 일정한 수열을 말한다. N이 주어졌을 때, 1보다 크거나 같고, N보다 작거나 같은 한수의 개수를 출력하는 프로그램을 작성하시오. \n",
        "\n",
        "- 입력\n",
        "\n",
        "    첫째 줄에 1,000보다 작거나 같은 자연수 N이 주어진다.\n",
        "\n",
        "- 출력\n",
        "\n",
        "    첫째 줄에 1보다 크거나 같고, N보다 작거나 같은 한수의 개수를 출력한다."
      ]
    },
    {
      "cell_type": "code",
      "metadata": {
        "id": "4fEuA4DUvLZu",
        "outputId": "9466da3c-65b2-4ca5-f705-0a348326d4c9",
        "colab": {
          "base_uri": "https://localhost:8080/",
          "height": 52
        }
      },
      "source": [
        "def hansu(n):\n",
        "    c = 0\n",
        "    if n < 100:\n",
        "        c += 1\n",
        "    else:\n",
        "        if n//100 - n//10%10 == n//10%10 - n%10:\n",
        "            c += 1\n",
        "        else:\n",
        "            pass\n",
        "    return c\n",
        "\n",
        "x = int(input())\n",
        "\n",
        "count = 0\n",
        "for i in range(1, x+1):\n",
        "    count += hansu(i)\n",
        "\n",
        "print(count)"
      ],
      "execution_count": 42,
      "outputs": [
        {
          "output_type": "stream",
          "text": [
            "210\n",
            "105\n"
          ],
          "name": "stdout"
        }
      ]
    }
  ]
}