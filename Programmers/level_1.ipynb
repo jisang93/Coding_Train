{
  "nbformat": 4,
  "nbformat_minor": 0,
  "metadata": {
    "colab": {
      "name": "level_1.ipynb",
      "provenance": [],
      "collapsed_sections": [],
      "authorship_tag": "ABX9TyMba0K2mI0QfSAY+PUffPaG",
      "include_colab_link": true
    },
    "kernelspec": {
      "name": "python3",
      "display_name": "Python 3"
    }
  },
  "cells": [
    {
      "cell_type": "markdown",
      "metadata": {
        "id": "view-in-github",
        "colab_type": "text"
      },
      "source": [
        "<a href=\"https://colab.research.google.com/github/jisang93/Coding_Train/blob/master/Programmers/level_1.ipynb\" target=\"_parent\"><img src=\"https://colab.research.google.com/assets/colab-badge.svg\" alt=\"Open In Colab\"/></a>"
      ]
    },
    {
      "cell_type": "markdown",
      "metadata": {
        "id": "05tPGsyHC5SB"
      },
      "source": [
        "**1. 두 개 뽑아서 더하기**\n",
        "\n",
        "- 문제 설명\n",
        "\n",
        "    정수 배열 numbers가 주어집니다. numbers에서 서로 다른 인덱스에 있는 두 개의 수를 뽑아 더해서 만들 수 있는 모든 수를 배열에 오름차순으로 담아 return 하도록 solution 함수를 완성해주세요.\n",
        "\n",
        "- 제한사항\n",
        "  - numbers의 길이는 2 이상 100 이하입니다.\n",
        "    - numbers의 모든 수는 0 이상 100 이하입니다.\n",
        "\n",
        "- 입출력 예\n",
        "\n",
        "|numbers |\tresult |\n",
        "|--------|---------|\n",
        "|[2,1,3,4,1]|\t[2,3,4,5,6,7]|\n",
        "|[5,0,2,7]|\t[2,5,7,9,12]|"
      ]
    },
    {
      "cell_type": "code",
      "metadata": {
        "id": "hTAcDKzNBwO8"
      },
      "source": [
        "def solution(numbers):\n",
        "    numbers = numbers\n",
        "    answer = []\n",
        "    for i in range(len(numbers)-1):\n",
        "        for j in range(1, len(numbers)):\n",
        "            if i != j:\n",
        "                answer.append(numbers[i]+numbers[j])\n",
        "    answer = list(set(answer))\n",
        "    answer.sort()\n",
        "    return answer"
      ],
      "execution_count": null,
      "outputs": []
    },
    {
      "cell_type": "code",
      "metadata": {
        "id": "ivl58jvCDnzG",
        "outputId": "5833cf88-8b33-45db-b942-86096a77f4f2",
        "colab": {
          "base_uri": "https://localhost:8080/"
        }
      },
      "source": [
        "numbers = [2,1,3,4,1]\n",
        "solution(numbers)"
      ],
      "execution_count": null,
      "outputs": [
        {
          "output_type": "execute_result",
          "data": {
            "text/plain": [
              "[2, 3, 4, 5, 6, 7]"
            ]
          },
          "metadata": {
            "tags": []
          },
          "execution_count": 49
        }
      ]
    },
    {
      "cell_type": "markdown",
      "metadata": {
        "id": "P0gnJ9-BGiMJ"
      },
      "source": [
        "**2. 크레인 인형뽑기 게임**\n",
        "\n",
        "- 문제 설명\n",
        "\n",
        "    게임개발자인 죠르디는 크레인 인형뽑기 기계를 모바일 게임으로 만들려고 합니다.\n",
        "\n",
        "    죠르디는 게임의 재미를 높이기 위해 화면 구성과 규칙을 다음과 같이 게임 로직에 반영하려고 합니다.\n",
        "\n",
        "    게임 화면은 1 x 1 크기의 칸들로 이루어진 N x N 크기의 정사각 격자이며 위쪽에는 크레인이 있고 오른쪽에는 바구니가 있습니다. (위 그림은 5 x 5 크기의 예시입니다). 각 격자 칸에는 다양한 인형이 들어 있으며 인형이 없는 칸은 빈칸입니다. 모든 인형은 1 x 1 크기의 격자 한 칸을 차지하며 격자의 가장 아래 칸부터 차곡차곡 쌓여 있습니다. 게임 사용자는 크레인을 좌우로 움직여서 멈춘 위치에서 가장 위에 있는 인형을 집어 올릴 수 있습니다. 집어 올린 인형은 바구니에 쌓이게 되는 데, 이때 바구니의 가장 아래 칸부터 인형이 순서대로 쌓이게 됩니다. 다음 그림은 [1번, 5번, 3번] 위치에서 순서대로 인형을 집어 올려 바구니에 담은 모습입니다.\n",
        "\n",
        "    만약 같은 모양의 인형 두 개가 바구니에 연속해서 쌓이게 되면 두 인형은 터뜨려지면서 바구니에서 사라지게 됩니다. 위 상태에서 이어서 [5번] 위치에서 인형을 집어 바구니에 쌓으면 같은 모양 인형 두 개가 없어집니다.\n",
        "\n",
        "    크레인 작동 시 인형이 집어지지 않는 경우는 없으나 만약 인형이 없는 곳에서 크레인을 작동시키는 경우에는 아무런 일도 일어나지 않습니다. 또한 바구니는 모든 인형이 들어갈 수 있을 만큼 충분히 크다고 가정합니다. (그림에서는 화면표시 제약으로 5칸만으로 표현하였음)\n",
        "\n",
        "    게임 화면의 격자의 상태가 담긴 2차원 배열 board와 인형을 집기 위해 크레인을 작동시킨 위치가 담긴 배열 moves가 매개변수로 주어질 때, 크레인을 모두 작동시킨 후 터트려져 사라진 인형의 개수를 return 하도록 solution 함수를 완성해주세요.\n",
        "\n",
        "- 제한사항\n",
        "\n",
        " - board 배열은 2차원 배열로 크기는 5 x 5 이상 30 x 30 이하입니다.\n",
        " - board의 각 칸에는 0 이상 100 이하인 정수가 담겨있습니다.\n",
        "    - 0은 빈 칸을 나타냅니다.\n",
        "    - 1 ~ 100의 각 숫자는 각기 다른 인형의 모양을 의미하며 같은 숫자는 같은 모양의 인형을 나타냅니다.\n",
        " - moves 배열의 크기는 1 이상 1,000 이하입니다.\n",
        " - moves 배열 각 원소들의 값은 1 이상이며 board 배열의 가로 크기 이하인 자연수입니다."
      ]
    },
    {
      "cell_type": "code",
      "metadata": {
        "id": "I7YgaResENM_"
      },
      "source": [
        "def solution(board, moves):\n",
        "    box = []\n",
        "    answer = 0\n",
        "    for move in moves:\n",
        "        for row in board:\n",
        "            if row[move-1] == 0:\n",
        "                pass\n",
        "            else:\n",
        "                box.append(row[move-1])\n",
        "                row[move-1] = 0\n",
        "                if len(box) > 1:\n",
        "                    if box[-2] == box[-1]:\n",
        "                        box = box[:-2]\n",
        "                        answer += 1\n",
        "                    else:\n",
        "                        pass\n",
        "                break\n",
        "\n",
        "    return answer * 2"
      ],
      "execution_count": null,
      "outputs": []
    },
    {
      "cell_type": "code",
      "metadata": {
        "id": "VbMALUzS22YD",
        "outputId": "efbde97b-3adb-4643-c7a3-8690da8fbb00",
        "colab": {
          "base_uri": "https://localhost:8080/"
        }
      },
      "source": [
        "board = [[0,0,0,0,0], [0,0,1,0,3], [0,2,5,0,1], [4,2,4,4,2], [3,5,1,3,1]]\n",
        "moves = [1,5,3,5,1,2,1,4]\n",
        "solution(board, moves)"
      ],
      "execution_count": null,
      "outputs": [
        {
          "output_type": "execute_result",
          "data": {
            "text/plain": [
              "4"
            ]
          },
          "metadata": {
            "tags": []
          },
          "execution_count": 99
        }
      ]
    },
    {
      "cell_type": "markdown",
      "metadata": {
        "id": "8mUz2n9t_701"
      },
      "source": [
        "**3. 완주하지 못한 선수**\n",
        "\n",
        "- 문제 설명\n",
        "\n",
        "    수많은 마라톤 선수들이 마라톤에 참여하였습니다. 단 한 명의 선수를 제외하고는 모든 선수가 마라톤을 완주하였습니다.\n",
        "\n",
        "    마라톤에 참여한 선수들의 이름이 담긴 배열 participant와 완주한 선수들의 이름이 담긴 배열 completion이 주어질 때, 완주하지 못한 선수의 이름을 return 하도록 solution 함수를 작성해주세요.\n",
        "\n",
        "- 제한사항\n",
        " - 마라톤 경기에 참여한 선수의 수는 1명 이상 100,000명 이하입니다.\n",
        " - completion의 길이는 participant의 길이보다 1 작습니다.\n",
        " - 참가자의 이름은 1개 이상 20개 이하의 알파벳 소문자로 이루어져 있습니다.\n",
        " - 참가자 중에는 동명이인이 있을 수 있습니다."
      ]
    },
    {
      "cell_type": "code",
      "metadata": {
        "id": "bYh0UU8KByLU"
      },
      "source": [
        "import collections\n",
        "def solution(participant, completion):\n",
        "    # collections.Counter 쓰면 딕셔너리를 자동으로 만듦\n",
        "    answer = collections.Counter(participant) - collections.Counter(completion)\n",
        "    return list(answer)[0]"
      ],
      "execution_count": null,
      "outputs": []
    },
    {
      "cell_type": "code",
      "metadata": {
        "id": "ZitvbPlbQjoO",
        "outputId": "e56333cf-1413-4e8b-a654-fbd7475b686c",
        "colab": {
          "base_uri": "https://localhost:8080/",
          "height": 35
        }
      },
      "source": [
        "p = [\"mislav\", \"stanko\", \"mislav\", \"ana\"]\n",
        "c = [\"stanko\", \"ana\", \"mislav\"]\n",
        "\n",
        "solution(p, c)"
      ],
      "execution_count": null,
      "outputs": [
        {
          "output_type": "execute_result",
          "data": {
            "application/vnd.google.colaboratory.intrinsic+json": {
              "type": "string"
            },
            "text/plain": [
              "'mislav'"
            ]
          },
          "metadata": {
            "tags": []
          },
          "execution_count": 140
        }
      ]
    },
    {
      "cell_type": "markdown",
      "metadata": {
        "id": "o0z9em1kQ9cE"
      },
      "source": [
        "**4. 체육복**\n",
        "\n",
        "- 문제 설명\n",
        "\n",
        "    점심시간에 도둑이 들어, 일부 학생이 체육복을 도난당했습니다. 다행히 여벌 체육복이 있는 학생이 이들에게 체육복을 빌려주려 합니다. 학생들의 번호는 체격 순으로 매겨져 있어, 바로 앞번호의 학생이나 바로 뒷번호의 학생에게만 체육복을 빌려줄 수 있습니다. 예를 들어, 4번 학생은 3번 학생이나 5번 학생에게만 체육복을 빌려줄 수 있습니다. 체육복이 없으면 수업을 들을 수 없기 때문에 체육복을 적절히 빌려 최대한 많은 학생이 체육수업을 들어야 합니다.\n",
        "\n",
        "    전체 학생의 수 n, 체육복을 도난당한 학생들의 번호가 담긴 배열 lost, 여벌의 체육복을 가져온 학생들의 번호가 담긴 배열 reserve가 매개변수로 주어질 때, 체육수업을 들을 수 있는 학생의 최댓값을 return 하도록 solution 함수를 작성해주세요.\n",
        "\n",
        "- 제한사항\n",
        " - 전체 학생의 수는 2명 이상 30명 이하입니다.\n",
        " - 체육복을 도난당한 학생의 수는 1명 이상 n명 이하이고 중복되는 번호는 없습니다.\n",
        " - 여벌의 체육복을 가져온 학생의 수는 1명 이상 n명 이하이고 중복되는 번호는 없습니다.\n",
        " - 여벌 체육복이 있는 학생만 다른 학생에게 체육복을 빌려줄 수 있습니다.\n",
        " - 여벌 체육복을 가져온 학생이 체육복을 도난당했을 수 있습니다. 이때 이 학생은 체육복을 하나만 도난당했다고 가정하며, 남은 체육복이 하나이기에 다른 학생에게는 체육복을 빌려줄 수 없습니다."
      ]
    },
    {
      "cell_type": "code",
      "metadata": {
        "id": "dXSX8C75QmNG"
      },
      "source": [
        "def solution(n, lost, reserve):\n",
        "    # 도난당했는데 체육복이 있는 경우 체크\n",
        "    new_reserve = set(reserve) - set(lost)\n",
        "    new_lost = set(lost) - set(reserve)\n",
        "    # 유니폼 없는 사람 제거하기\n",
        "    for i in new_reserve:\n",
        "        if i-1 in new_lost:\n",
        "            new_lost.remove(i-1)\n",
        "        elif i+1 in new_lost:\n",
        "            new_lost.remove(i+1)\n",
        "\n",
        "    return n - len(new_lost)"
      ],
      "execution_count": 22,
      "outputs": []
    },
    {
      "cell_type": "code",
      "metadata": {
        "id": "sPWPar1jWxrR",
        "outputId": "a6c9b9e0-1b1f-499b-adfa-c2e58013197c",
        "colab": {
          "base_uri": "https://localhost:8080/"
        }
      },
      "source": [
        "n, lost, reserve =5,\t[2, 4],\t[1, 3, 5]\n",
        "solution(n, lost, reserve)"
      ],
      "execution_count": 23,
      "outputs": [
        {
          "output_type": "execute_result",
          "data": {
            "text/plain": [
              "5"
            ]
          },
          "metadata": {
            "tags": []
          },
          "execution_count": 23
        }
      ]
    },
    {
      "cell_type": "markdown",
      "metadata": {
        "id": "b8z8bOzzdBdg"
      },
      "source": [
        "**5. 2016년**\n",
        "- 문제 설명\n",
        "    2016년 1월 1일은 금요일입니다. 2016년 a월 b일은 무슨 요일일까요? 두 수 a ,b를 입력받아 2016년 a월 b일이 무슨 요일인지 리턴하는 함수, solution을 완성하세요. 요일의 이름은 일요일부터 토요일까지 각각 SUN,MON,TUE,WED,THU,FRI,SAT\n",
        "    \n",
        "     입니다. 예를 들어 a=5, b=24라면 5월 24일은 화요일이므로 문자열 TUE를 반환하세요.\n",
        "\n",
        "- 제한 조건\n",
        " - 2016년은 윤년입니다.\n",
        " - 2016년 a월 b일은 실제로 있는 날입니다. (13월 26일이나 2월 45일같은 날짜는 주어지지 않습니다)"
      ]
    },
    {
      "cell_type": "code",
      "metadata": {
        "id": "yQF38vvtW4lP"
      },
      "source": [
        "def solution(a, b):\n",
        "    # index 1에 금요일이 오게 설정\n",
        "    day = [\"THU\", \"FRI\", \"SAT\", \"SUN\", \"MON\", \"TUE\", \"WED\"]\n",
        "    month = [31, 29, 31, 30, 31, 30, 31, 31, 30, 31, 30, 31]\n",
        "    # (직전 달까지의 일수 총합 + 일수) / 7일\n",
        "    answer = day[(sum(month[:a-1])+b)%len(day)]\n",
        "    return answer"
      ],
      "execution_count": 45,
      "outputs": []
    },
    {
      "cell_type": "code",
      "metadata": {
        "id": "s9wjjVPogqFY",
        "outputId": "8bcff369-29e6-4b56-be45-68738f882186",
        "colab": {
          "base_uri": "https://localhost:8080/",
          "height": 35
        }
      },
      "source": [
        "a, b = 5, 24\n",
        "solution(a, b)"
      ],
      "execution_count": 46,
      "outputs": [
        {
          "output_type": "execute_result",
          "data": {
            "application/vnd.google.colaboratory.intrinsic+json": {
              "type": "string"
            },
            "text/plain": [
              "'TUE'"
            ]
          },
          "metadata": {
            "tags": []
          },
          "execution_count": 46
        }
      ]
    },
    {
      "cell_type": "markdown",
      "metadata": {
        "id": "ADp1Uh6clnJg"
      },
      "source": [
        "**6. 모의고사**\n",
        "\n",
        "- 문제 설명\n",
        "\n",
        "    수포자는 수학을 포기한 사람의 준말입니다. 수포자 삼인방은 모의고사에 수학 문제를 전부 찍으려 합니다. 수포자는 1번 문제부터 마지막 문제까지 다음과 같이 찍습니다.\n",
        "\n",
        "    1번 수포자가 찍는 방식: 1, 2, 3, 4, 5, 1, 2, 3, 4, 5, ...\n",
        "    \n",
        "    2번 수포자가 찍는 방식: 2, 1, 2, 3, 2, 4, 2, 5, 2, 1, 2, 3, 2, 4, 2, 5, ...\n",
        "    \n",
        "    3번 수포자가 찍는 방식: 3, 3, 1, 1, 2, 2, 4, 4, 5, 5, 3, 3, 1, 1, 2, 2, 4, 4, 5, 5, ...\n",
        "\n",
        "    1번 문제부터 마지막 문제까지의 정답이 순서대로 들은 배열 answers가 주어졌을 때, 가장 많은 문제를 맞힌 사람이 누구인지 배열에 담아 return 하도록 solution 함수를 작성해주세요.\n",
        "\n",
        "- 제한 조건\n",
        " - 시험은 최대 10,000 문제로 구성되어있습니다.\n",
        " - 문제의 정답은 1, 2, 3, 4, 5중 하나입니다.\n",
        " - 가장 높은 점수를 받은 사람이 여럿일 경우, return하는 값을 오름차순 정렬해주세요."
      ]
    },
    {
      "cell_type": "code",
      "metadata": {
        "id": "DFM5DIRCmZEy"
      },
      "source": [
        "def solution(answers):\n",
        "    # 수포자 패턴\n",
        "    math_1 = [1, 2, 3, 4, 5]\n",
        "    math_2 = [2, 1, 2, 3, 2, 4, 2, 5]\n",
        "    math_3 = [3, 3, 1, 1, 2, 2, 4, 4, 5, 5]\n",
        "    # 점수 계산\n",
        "    score_1 = 0\n",
        "    score_2 = 0\n",
        "    score_3 = 0\n",
        "    for i in range(len(answers)):\n",
        "        if answers[i] == math_1[i%len(math_1)]:\n",
        "            score_1 += 1\n",
        "        if answers[i] == math_2[i%len(math_2)]:\n",
        "            score_2 += 1\n",
        "        if answers[i] == math_3[i%len(math_3)]:\n",
        "            score_3 += 1\n",
        "    # 점수 통합\n",
        "    scores = [score_1, score_2, score_3]\n",
        "    result = []\n",
        "    for i in range(len(scores)):\n",
        "        if max(scores) == scores[i]:\n",
        "            result.append(i+1)\n",
        "    answer = result\n",
        "\n",
        "    return answer"
      ],
      "execution_count": 71,
      "outputs": []
    },
    {
      "cell_type": "code",
      "metadata": {
        "id": "HxtsgzfEz1EU",
        "outputId": "a2f996e0-9ee3-4065-89f0-34acdb3f0f84",
        "colab": {
          "base_uri": "https://localhost:8080/"
        }
      },
      "source": [
        "a = [1,3,2,4,2]\n",
        "solution(a)"
      ],
      "execution_count": 73,
      "outputs": [
        {
          "output_type": "execute_result",
          "data": {
            "text/plain": [
              "[1, 2, 3]"
            ]
          },
          "metadata": {
            "tags": []
          },
          "execution_count": 73
        }
      ]
    },
    {
      "cell_type": "code",
      "metadata": {
        "id": "v7wsPrOgz5hy"
      },
      "source": [
        ""
      ],
      "execution_count": null,
      "outputs": []
    }
  ]
}