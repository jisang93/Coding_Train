{
  "nbformat": 4,
  "nbformat_minor": 0,
  "metadata": {
    "colab": {
      "name": "02. if문.ipynb",
      "provenance": [],
      "authorship_tag": "ABX9TyPj/yNXaX8F0+zGysnHZ9XE",
      "include_colab_link": true
    },
    "kernelspec": {
      "name": "python3",
      "display_name": "Python 3"
    }
  },
  "cells": [
    {
      "cell_type": "markdown",
      "metadata": {
        "id": "view-in-github",
        "colab_type": "text"
      },
      "source": [
        "<a href=\"https://colab.research.google.com/github/jisang93/Coding_Train/blob/master/02_if%EB%AC%B8.ipynb\" target=\"_parent\"><img src=\"https://colab.research.google.com/assets/colab-badge.svg\" alt=\"Open In Colab\"/></a>"
      ]
    },
    {
      "cell_type": "markdown",
      "metadata": {
        "id": "4NT3uq6jo2C0",
        "colab_type": "text"
      },
      "source": [
        "**1. 첫째 줄에 다음 세 가지 중 하나를 출력한다.**\n",
        "\n",
        "A가 B보다 큰 경우에는 '>'를 출력한다.\n",
        "\n",
        "A가 B보다 작은 경우에는 '<'를 출력한다.\n",
        "\n",
        "A와 B가 같은 경우에는 '=='를 출력한다."
      ]
    },
    {
      "cell_type": "code",
      "metadata": {
        "id": "2Tu8ntvWoyFS",
        "colab_type": "code",
        "colab": {
          "base_uri": "https://localhost:8080/",
          "height": 52
        },
        "outputId": "49574531-31fa-4a85-ffec-ea0c10837474"
      },
      "source": [
        "a, b = map(int, input().split())\n",
        "if a > b:\n",
        "    print(\">\")\n",
        "elif a < b:\n",
        "    print(\"<\")\n",
        "else:\n",
        "    print(\"==\")"
      ],
      "execution_count": null,
      "outputs": [
        {
          "output_type": "stream",
          "text": [
            "1 2\n",
            "<\n"
          ],
          "name": "stdout"
        }
      ]
    },
    {
      "cell_type": "markdown",
      "metadata": {
        "id": "9rLtgqsFprKE",
        "colab_type": "text"
      },
      "source": [
        "**2. 시험 점수를 입력받아 90 ~ 100점은 A, 80 ~ 89점은 B, 70 ~ 79점은 C, 60 ~ 69점은 D, 나머지 점수는 F를 출력하는 프로그램을 작성하시오.**\n",
        "\n"
      ]
    },
    {
      "cell_type": "code",
      "metadata": {
        "id": "8-A3803GpaUx",
        "colab_type": "code",
        "colab": {
          "base_uri": "https://localhost:8080/",
          "height": 52
        },
        "outputId": "1bf98338-d2f7-4f54-fa94-4dedfa401ad0"
      },
      "source": [
        "score = int(input())\n",
        "if 90 <= score <= 100:\n",
        "    print(\"A\")\n",
        "elif 80 <= score < 90:\n",
        "    print(\"B\")\n",
        "elif 70 <= score < 80:\n",
        "    print(\"C\")\n",
        "elif 60 <= score < 70:\n",
        "    print(\"D\")\n",
        "else:\n",
        "    print(\"F\")"
      ],
      "execution_count": null,
      "outputs": [
        {
          "output_type": "stream",
          "text": [
            "90\n",
            "A\n"
          ],
          "name": "stdout"
        }
      ]
    },
    {
      "cell_type": "markdown",
      "metadata": {
        "id": "58sb9qCxqe6V",
        "colab_type": "text"
      },
      "source": [
        "**3. 연도가 주어졌을 때, 윤년이면 1, 아니면 0을 출력하는 프로그램을 작성하시오.**\n",
        "\n",
        "윤년은 연도가 4의 배수이면서, 100의 배수가 아닐 때 또는 400의 배수일 때이다.\n",
        "\n",
        "예를 들어, 2012년은 4의 배수이면서 100의 배수가 아니라서 윤년이다. 1900년은 100의 배수이고 400의 배수는 아니기 때문에 윤년이 아니다. 하지만, 2000년은 400의 배수이기 때문에 윤년이다."
      ]
    },
    {
      "cell_type": "code",
      "metadata": {
        "id": "EjNR6HSoqJ37",
        "colab_type": "code",
        "colab": {
          "base_uri": "https://localhost:8080/",
          "height": 52
        },
        "outputId": "989999a1-1b22-4bb1-c079-0c718b45cd30"
      },
      "source": [
        "year = int(input())\n",
        "if year % 4 == 0 and year % 100 != 0:\n",
        "    print('1')\n",
        "elif year % 400 == 0:\n",
        "    print('1')\n",
        "else:\n",
        "    print('0')"
      ],
      "execution_count": null,
      "outputs": [
        {
          "output_type": "stream",
          "text": [
            "1900\n",
            "0\n"
          ],
          "name": "stdout"
        }
      ]
    },
    {
      "cell_type": "markdown",
      "metadata": {
        "id": "I-Vda2Vxrn9t",
        "colab_type": "text"
      },
      "source": [
        "**4. 흔한 수학 문제 중 하나는 주어진 점이 어느 사분면에 속하는지 알아내는 것이다. 사분면은 아래 그림처럼 1부터 4까지 번호를 갖는다. \"Quadrant n\"은 \"제n사분면\"이라는 뜻이다.**\n",
        "\n",
        "![image.png](data:image/png;base64,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)\n",
        "\n",
        "\n",
        "예를 들어, 좌표가 (12, 5)인 점 A는 x좌표와 y좌표가 모두 양수이므로 제1사분면에 속한다. 점 B는 x좌표가 음수이고 y좌표가 양수이므로 제2사분면에 속한다.\n",
        "\n",
        "점의 좌표를 입력받아 그 점이 어느 사분면에 속하는지 알아내는 프로그램을 작성하시오. 단, x좌표와 y좌표는 모두 양수나 음수라고 가정한다."
      ]
    },
    {
      "cell_type": "code",
      "metadata": {
        "id": "k8GygNWIrCmC",
        "colab_type": "code",
        "colab": {
          "base_uri": "https://localhost:8080/",
          "height": 70
        },
        "outputId": "7bf1224a-026b-42ed-d8af-b92ee7e596bc"
      },
      "source": [
        "x = int(input())\n",
        "y = int(input())\n",
        "\n",
        "if x > 0 and y > 0:\n",
        "    print('1')\n",
        "elif x < 0 and y > 0:\n",
        "    print('2')\n",
        "elif x < 0 and y < 0:\n",
        "    print('3')\n",
        "elif x > 0 and y < 0:\n",
        "    print('4')"
      ],
      "execution_count": null,
      "outputs": [
        {
          "output_type": "stream",
          "text": [
            "3\n",
            "-3\n",
            "4\n"
          ],
          "name": "stdout"
        }
      ]
    },
    {
      "cell_type": "markdown",
      "metadata": {
        "id": "INPoNBBPtNyi",
        "colab_type": "text"
      },
      "source": [
        "**5. 상근이는 매일 아침 알람을 듣고 일어난다. 알람을 듣고 바로 일어나면 다행이겠지만, 항상 조금만 더 자려는 마음 때문에 매일 학교를 지각하고 있다.**\n",
        "\n",
        "상근이는 모든 방법을 동원해보았지만, 조금만 더 자려는 마음은 그 어떤 것도 없앨 수가 없었다.\n",
        "\n",
        "이런 상근이를 불쌍하게 보던, 창영이는 자신이 사용하는 방법을 추천해 주었다.\n",
        "\n",
        "바로 \"45분 일찍 알람 설정하기\"이다.\n",
        "\n",
        "이 방법은 단순하다. 원래 설정되어 있는 알람을 45분 앞서는 시간으로 바꾸는 것이다. 어차피 알람 소리를 들으면, 알람을 끄고 조금 더 잘 것이기 때문이다. 이 방법을 사용하면, 매일 아침 더 잤다는 기분을 느낄 수 있고, 학교도 지각하지 않게 된다.\n",
        "\n",
        "현재 상근이가 설정한 알람 시각이 주어졌을 때, 창영이의 방법을 사용한다면, 이를 언제로 고쳐야 하는지 구하는 프로그램을 작성하시오."
      ]
    },
    {
      "cell_type": "code",
      "metadata": {
        "id": "tRsy-JnUszkK",
        "colab_type": "code",
        "colab": {
          "base_uri": "https://localhost:8080/",
          "height": 52
        },
        "outputId": "a9bab2f3-b79f-4a7f-e379-a5f24cab7240"
      },
      "source": [
        "hour, minute = map(int, input().split())\n",
        "\n",
        "if minute >= 45:\n",
        "    print(\"{} {}\".format(hour, minute-45))\n",
        "elif hour >= 1 and minute < 45:\n",
        "    print(\"{} {}\".format(hour - 1, minute -45 + 60))\n",
        "elif hour < 1 and minute < 45:\n",
        "    print(\"{} {}\".format(23, minute - 45 + 60))"
      ],
      "execution_count": null,
      "outputs": [
        {
          "output_type": "stream",
          "text": [
            "0 20\n",
            "23 35\n"
          ],
          "name": "stdout"
        }
      ]
    }
  ]
}